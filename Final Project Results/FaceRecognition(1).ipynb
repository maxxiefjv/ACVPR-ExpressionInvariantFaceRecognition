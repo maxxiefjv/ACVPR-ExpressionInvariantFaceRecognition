{
  "nbformat": 4,
  "nbformat_minor": 0,
  "metadata": {
    "kernelspec": {
      "display_name": "Python 3",
      "language": "python",
      "name": "python3"
    },
    "language_info": {
      "codemirror_mode": {
        "name": "ipython",
        "version": 3
      },
      "file_extension": ".py",
      "mimetype": "text/x-python",
      "name": "python",
      "nbconvert_exporter": "python",
      "pygments_lexer": "ipython3",
      "version": "3.7.4"
    },
    "colab": {
      "name": "FaceRecognition.ipynb",
      "provenance": [],
      "collapsed_sections": [
        "U9RTa5COffwy",
        "GkS9c04Bffw-"
      ],
      "toc_visible": true,
      "machine_shape": "hm"
    }
  },
  "cells": [
    {
      "cell_type": "code",
      "metadata": {
        "id": "Ki8MwDZyffwG",
        "colab_type": "code",
        "colab": {}
      },
      "source": [
        "import numpy as np\n",
        "import pandas as pd\n",
        "\n",
        "import matplotlib.pyplot as plt\n",
        "import matplotlib.image as mpimg\n",
        "\n",
        "import cv2\n",
        "\n",
        "import glob\n",
        "\n",
        "from sklearn.model_selection import train_test_split\n",
        "from sklearn.metrics import accuracy_score, classification_report, confusion_matrix\n",
        "\n",
        "from PIL import Image\n",
        "from time import gmtime, strftime"
      ],
      "execution_count": 0,
      "outputs": []
    },
    {
      "cell_type": "code",
      "metadata": {
        "id": "vUI6UlFOOlTY",
        "colab_type": "code",
        "colab": {
          "base_uri": "https://localhost:8080/",
          "height": 122
        },
        "outputId": "b5746398-677d-4506-a26b-7cf37913bb95"
      },
      "source": [
        "from google.colab import drive\n",
        "drive.mount('/content/gdrive')"
      ],
      "execution_count": 2,
      "outputs": [
        {
          "output_type": "stream",
          "text": [
            "Go to this URL in a browser: https://accounts.google.com/o/oauth2/auth?client_id=947318989803-6bn6qk8qdgf4n4g3pfee6491hc0brc4i.apps.googleusercontent.com&redirect_uri=urn%3aietf%3awg%3aoauth%3a2.0%3aoob&response_type=code&scope=email%20https%3a%2f%2fwww.googleapis.com%2fauth%2fdocs.test%20https%3a%2f%2fwww.googleapis.com%2fauth%2fdrive%20https%3a%2f%2fwww.googleapis.com%2fauth%2fdrive.photos.readonly%20https%3a%2f%2fwww.googleapis.com%2fauth%2fpeopleapi.readonly\n",
            "\n",
            "Enter your authorization code:\n",
            "··········\n",
            "Mounted at /content/gdrive\n"
          ],
          "name": "stdout"
        }
      ]
    },
    {
      "cell_type": "code",
      "metadata": {
        "id": "v5i_6NEKPXBM",
        "colab_type": "code",
        "colab": {}
      },
      "source": [
        "# !ls gdrive/My\\ Drive/ACVPR/Data"
      ],
      "execution_count": 0,
      "outputs": []
    },
    {
      "cell_type": "code",
      "metadata": {
        "id": "rdamqfmeffwJ",
        "colab_type": "code",
        "colab": {}
      },
      "source": [
        "base_path = \"../Data/CK_CK+/CK+/\""
      ],
      "execution_count": 0,
      "outputs": []
    },
    {
      "cell_type": "code",
      "metadata": {
        "id": "pjdQDZ4YffwM",
        "colab_type": "code",
        "colab": {}
      },
      "source": [
        "neutralised_path = \"NeutralisedImages/CK_CK+/CK+/\" + 'cohn-kanade-images'\n",
        "all_neutralisedImage_files = glob.glob(neutralised_path+'/**/*.png', recursive=True)"
      ],
      "execution_count": 0,
      "outputs": []
    },
    {
      "cell_type": "code",
      "metadata": {
        "id": "s1lrHpJjffwO",
        "colab_type": "code",
        "colab": {}
      },
      "source": [
        "all_emotions = {0: 'neutral', 1: 'anger', 2: 'contempt', 3: 'disgust', \n",
        "                4: 'fear', 5: 'happy', 6: 'sadness', 7: 'surprise'}"
      ],
      "execution_count": 0,
      "outputs": []
    },
    {
      "cell_type": "code",
      "metadata": {
        "id": "f7gqKRIaffwQ",
        "colab_type": "code",
        "colab": {}
      },
      "source": [
        "import copy\n",
        "\n",
        "class Image():\n",
        "    \n",
        "    def __init__(self, image, landmarks, emotion, name):\n",
        "        self.image = image\n",
        "        self.original_image = copy.deepcopy(self.image)\n",
        "        self.name = name\n",
        "        self.emotion = emotion\n",
        "        self.landmarks = landmarks\n",
        "        self.neutralised_image = np.array([])\n",
        "        self.hash = hash(self)\n",
        "    \n",
        "    def getEmotion(self):\n",
        "        return self.emotion\n",
        "    \n",
        "    def getLandmarks(self):\n",
        "        return self.landmarks\n",
        "    \n",
        "    def setNeutralisedImage(self, image):\n",
        "        self.neutralised_image = image\n",
        "        \n",
        "    def getNeutralisedImage(self):\n",
        "        return self.neutralised_image\n",
        "        \n",
        "    def getName(self):\n",
        "        return self.name\n",
        "        \n",
        "    def getImage(self):\n",
        "        return self.image\n",
        "    \n",
        "    def clearImage(self):\n",
        "        self.image= copy.deepcopy(self.original_image)\n",
        "        return self.image\n",
        "    \n",
        "    def getHash(self):\n",
        "\n",
        "        return self.hash"
      ],
      "execution_count": 0,
      "outputs": []
    },
    {
      "cell_type": "code",
      "metadata": {
        "id": "zy6e0AyyffwS",
        "colab_type": "code",
        "colab": {}
      },
      "source": [
        "face_det = cv2.CascadeClassifier(cv2.data.haarcascades + \"haarcascade_frontalface_default.xml\")\n",
        "face_det2 = cv2.CascadeClassifier(cv2.data.haarcascades +\"haarcascade_frontalface_alt2.xml\")\n",
        "face_det3 = cv2.CascadeClassifier(cv2.data.haarcascades +\"haarcascade_frontalface_alt.xml\")\n",
        "face_det4 = cv2.CascadeClassifier(cv2.data.haarcascades +\"haarcascade_frontalface_alt_tree.xml\")\n",
        "\n",
        "def detect_face(f, ld):\n",
        "    ''' function to detect face, crop the image and resize it and resize the corresponding landmarks too '''\n",
        "    frame = cv2.imread(f) #Open image\n",
        "    gray = cv2.cvtColor(frame, cv2.COLOR_BGR2GRAY) #Convert image to grayscale\n",
        "    face = face_det.detectMultiScale(gray, scaleFactor=1.1, minNeighbors=10, minSize=(5, 5), flags=cv2.CASCADE_SCALE_IMAGE)\n",
        "    face2 = face_det2.detectMultiScale(gray, scaleFactor=1.1, minNeighbors=10, minSize=(5, 5), flags=cv2.CASCADE_SCALE_IMAGE)\n",
        "    face3 = face_det3.detectMultiScale(gray, scaleFactor=1.1, minNeighbors=10, minSize=(5, 5), flags=cv2.CASCADE_SCALE_IMAGE)\n",
        "    face4 = face_det4.detectMultiScale(gray, scaleFactor=1.1, minNeighbors=10, minSize=(5, 5), flags=cv2.CASCADE_SCALE_IMAGE)\n",
        "#     ld = np.array([np.array(i) for i in ld])\n",
        "    crop_ld = ld\n",
        "    #Go over detected faces, stop at first detected face, return empty if no face.\n",
        "    if len(face) == 1:\n",
        "        facefeatures = face\n",
        "    elif len(face2) == 1:\n",
        "        facefeatures = face2\n",
        "    elif len(face3) == 1:\n",
        "        facefeatures = face3\n",
        "    elif len(face4) == 1:\n",
        "        facefeatures = face4\n",
        "    else:\n",
        "        facefeatures = \"\"\n",
        "    for (x, y, w, h) in facefeatures:\n",
        "        fw, fh = w, h\n",
        "        if any(ld[:,0] > x+w):\n",
        "            fw = int(max(ld[:,0]-x))\n",
        "        if any(ld[:,1] > y+h):\n",
        "            fh = int(max(ld[:,1]-y))\n",
        "#         gray = gray[y:y+h, x:x+w] #Cut the frame to size\n",
        "        gray = gray[y:y+fh+5, x:x+fw+5] #Cut the frame to size to max of landmark with padding of 5px\n",
        "        ld_rescale_factor = (gray.shape[1]/crop_imsize, (gray.shape[0]/crop_imsize))\n",
        "        crop_ld = np.array(list(zip(ld[:,0]-x, ld[:, 1]-y)))\n",
        "    try:\n",
        "        output = cv2.resize(gray, (crop_imsize, crop_imsize))\n",
        "        crop_ld = crop_ld/ld_rescale_factor\n",
        "        cv2.imwrite(crop_path+'/crop_'+f.split('/')[-1], output)\n",
        "    except:\n",
        "        output = gray\n",
        "\n",
        "    return output, crop_ld"
      ],
      "execution_count": 0,
      "outputs": []
    },
    {
      "cell_type": "code",
      "metadata": {
        "id": "BRtSk3hkffwV",
        "colab_type": "code",
        "colab": {}
      },
      "source": [
        "def pairPlot(im1, im2, clear_figure=False, title=''):\n",
        "    if not clear_figure:\n",
        "        plt.figure()\n",
        "    \n",
        "    fig, axes = plt.subplots(1,2)\n",
        "    axes[0].imshow(im1)\n",
        "    axes[1].imshow(im2)\n",
        "\n",
        "    fig.suptitle(title, fontsize=16)\n",
        "    \n",
        "def getTrianglePts(triangle_points_array):\n",
        "    return (tuple(triangle_points_array[0:2].astype(np.int32)), tuple(triangle_points_array[2:4].astype(np.int32)), tuple(triangle_points_array[4:6].astype(np.int32)))\n",
        "\n",
        "def getTriangleImage(im, triangle_points_array):\n",
        "    pt1, pt2, pt3 = getTrianglePts(triangle_points_array)\n",
        "    triangle = np.array([pt1, pt2, pt3])\n",
        "    \n",
        "    triangle_im = im\n",
        "    triangle_mask = np.zeros_like(im)\n",
        "\n",
        "    triangle_mask_fill_points = np.array([\n",
        "            [pt1[0], pt1[1]],\n",
        "            [pt2[0], pt2[1]],\n",
        "            [pt3[0], pt3[1]]\n",
        "        ], np.int32)\n",
        "    cv2.fillConvexPoly(triangle_mask, triangle_mask_fill_points, (255,255,255))\n",
        "        \n",
        "    cropped_triangle = cv2.bitwise_and(triangle_mask, triangle_im)\n",
        "    return cropped_triangle\n",
        "\n",
        "def cropByLandmarks(im,ld):\n",
        "    landmarks = list(map(lambda x: tuple(x),ld))\n",
        "\n",
        "    im_shape = im.shape\n",
        "    \n",
        "    rect = (0,0,im_shape[1],im_shape[0])\n",
        "    subdiv = cv2.Subdiv2D(rect)\n",
        "    subdiv.insert(landmarks)\n",
        "    \n",
        "    triangles = subdiv.getTriangleList()\n",
        "    cropped_image = np.zeros_like(im) \n",
        "    for triangle in triangles:\n",
        "        triangle_image = getTriangleImage(im, triangle)      \n",
        "        cropped_image = cv2.add(cropped_image, triangle_image)\n",
        "\n",
        "    return cropped_image"
      ],
      "execution_count": 0,
      "outputs": []
    },
    {
      "cell_type": "code",
      "metadata": {
        "id": "w8LyNlS8ffwX",
        "colab_type": "code",
        "colab": {}
      },
      "source": [
        "# from tqdm import tqdm\n",
        "\n",
        "# crop_imsize = 350\n",
        "# subjects = []\n",
        "\n",
        "# with tqdm(total=len(all_neutralisedImage_files), desc=\"Processing entries\") as pbar:\n",
        "\n",
        "#     for neutral_image_path in all_neutralisedImage_files[:]:\n",
        "\n",
        "#         original_image_path = \"../Data/\" + \"/\".join(neutral_image_path.split(\"/\")[1:])\n",
        "#         landmark_path = base_path + \"Landmarks/\" + \"/\".join(neutral_image_path.split(\"/\")[4:])[:-4] + '_landmarks.txt'\n",
        "#         emotion_path = base_path + \"Emotion/\" + \"/\".join(neutral_image_path.split(\"/\")[4:-1])\n",
        "        \n",
        "#         emotion_files = glob.glob(emotion_path+'/*.txt')\n",
        "\n",
        "#         if len(emotion_files) < 1:\n",
        "#             pbar.update(1)\n",
        "#             continue\n",
        "\n",
        "#         with open(emotion_files[0]) as emotion_file:\n",
        "#             emotion = emotion_file.read()\n",
        "#             emotion = all_emotions[(int(float(emotion)))]\n",
        "\n",
        "#         landmarks = np.loadtxt(landmark_path)\n",
        "        \n",
        "#         original_image, resized_landmarks = detect_face(original_image_path, landmarks)  \n",
        "#         original_image = cv2.resize(original_image,(crop_imsize, crop_imsize))\n",
        "#         original_image = cropByLandmarks(original_image, resized_landmarks)\n",
        "\n",
        "#         neutralised_image = cv2.imread(neutral_image_path) #Open Neutralised image\n",
        "#         neutralised_image = cv2.cvtColor(neutralised_image, cv2.COLOR_BGR2GRAY)\n",
        "# #         pairPlot(original_image, neutralised_image)\n",
        "#         im_object = Image(original_image, landmarks, emotion, int((original_image_path.split(\"/\")[-1])[:-4].split('_')[0][1:]))\n",
        "#         im_object.setNeutralisedImage(neutralised_image)\n",
        "\n",
        "#         subjects.append(im_object)\n",
        "#         pbar.update(1)"
      ],
      "execution_count": 0,
      "outputs": []
    },
    {
      "cell_type": "markdown",
      "metadata": {
        "id": "6X8nonJfffwZ",
        "colab_type": "text"
      },
      "source": [
        "## Half of the images do not have an emotion???!"
      ]
    },
    {
      "cell_type": "code",
      "metadata": {
        "id": "BL88dgNwffwa",
        "colab_type": "code",
        "colab": {}
      },
      "source": [
        "# len(subjects)"
      ],
      "execution_count": 0,
      "outputs": []
    },
    {
      "cell_type": "markdown",
      "metadata": {
        "id": "YNwE68q9ffwc",
        "colab_type": "text"
      },
      "source": [
        "# Create datasets for face recognition and exp recognition"
      ]
    },
    {
      "cell_type": "code",
      "metadata": {
        "id": "2cuR7jveffwd",
        "colab_type": "code",
        "outputId": "40e184d8-2a74-4e44-f784-11b59bf40fed",
        "colab": {
          "base_uri": "https://localhost:8080/",
          "height": 34
        }
      },
      "source": [
        "!ls"
      ],
      "execution_count": 11,
      "outputs": [
        {
          "output_type": "stream",
          "text": [
            "gdrive\tsample_data\n"
          ],
          "name": "stdout"
        }
      ]
    },
    {
      "cell_type": "code",
      "metadata": {
        "id": "c0xmKB5Yffwf",
        "colab_type": "code",
        "colab": {}
      },
      "source": [
        "# images_data = []\n",
        "\n",
        "# for image in subjects:\n",
        "#     images_data.append(np.array([image.getNeutralisedImage(), image.getImage(), image.getEmotion(), image.getName()]))\n",
        "\n",
        "# images_df = pd.DataFrame(images_data, columns=['neutralised_image', 'original_image', 'original_emotion', 'name'])"
      ],
      "execution_count": 0,
      "outputs": []
    },
    {
      "cell_type": "code",
      "metadata": {
        "id": "u7DWLVHGffwh",
        "colab_type": "code",
        "colab": {}
      },
      "source": [
        "# images_df.to_pickle('./joined_images_df.pkl')"
      ],
      "execution_count": 0,
      "outputs": []
    },
    {
      "cell_type": "code",
      "metadata": {
        "id": "KFdPmMF1ffwj",
        "colab_type": "code",
        "colab": {}
      },
      "source": [
        "images_df = pd.read_pickle('gdrive/My Drive/ACVPR/Data/joined_images_df.pkl')"
      ],
      "execution_count": 0,
      "outputs": []
    },
    {
      "cell_type": "code",
      "metadata": {
        "id": "RnEIllIfffwl",
        "colab_type": "code",
        "colab": {}
      },
      "source": [
        "## Add original images to dataset\n",
        "augmented_images_df = pd.DataFrame(columns=np.append(images_df.columns.values, 'all_images'))\n",
        "\n",
        "for index, image in images_df.iterrows():\n",
        "    resized_scale = (160,160)\n",
        "    resized_original = cv2.resize(image['original_image'], resized_scale) \n",
        "    resized_neutralised = cv2.resize(image['neutralised_image'], resized_scale) \n",
        "\n",
        "    # original format, but resized\n",
        "    augmented_images_df = augmented_images_df.append({\n",
        "        'all_images': resized_original, \n",
        "        'neutralised_image': resized_neutralised , \n",
        "        'original_image': resized_original, \n",
        "        'original_emotion': image['original_emotion'], \n",
        "        'name': image['name']}, \n",
        "        ignore_index=True)\n",
        "    \n",
        "    # swapped format and resized\n",
        "    augmented_images_df = augmented_images_df.append({\n",
        "        'all_images': resized_neutralised, \n",
        "        'neutralised_image': resized_neutralised , \n",
        "        'original_image': resized_original, \n",
        "        'original_emotion': image['original_emotion'], \n",
        "        'name': image['name']}, \n",
        "        ignore_index=True)"
      ],
      "execution_count": 0,
      "outputs": []
    },
    {
      "cell_type": "code",
      "metadata": {
        "id": "T5Fcbws5CFPo",
        "colab_type": "code",
        "colab": {}
      },
      "source": [
        "augmented_images_df = augmented_images_df.sample(frac=1)"
      ],
      "execution_count": 0,
      "outputs": []
    },
    {
      "cell_type": "code",
      "metadata": {
        "id": "WvRLnVykffwn",
        "colab_type": "code",
        "outputId": "4226b6f2-5dd4-4938-d0e9-0c769f963b0d",
        "colab": {
          "base_uri": "https://localhost:8080/",
          "height": 159
        }
      },
      "source": [
        "print(len(images_df), len(augmented_images_df))\n",
        "augmented_images_df.head(3)"
      ],
      "execution_count": 17,
      "outputs": [
        {
          "output_type": "stream",
          "text": [
            "5876 11752\n"
          ],
          "name": "stdout"
        },
        {
          "output_type": "execute_result",
          "data": {
            "text/html": [
              "<div>\n",
              "<style scoped>\n",
              "    .dataframe tbody tr th:only-of-type {\n",
              "        vertical-align: middle;\n",
              "    }\n",
              "\n",
              "    .dataframe tbody tr th {\n",
              "        vertical-align: top;\n",
              "    }\n",
              "\n",
              "    .dataframe thead th {\n",
              "        text-align: right;\n",
              "    }\n",
              "</style>\n",
              "<table border=\"1\" class=\"dataframe\">\n",
              "  <thead>\n",
              "    <tr style=\"text-align: right;\">\n",
              "      <th></th>\n",
              "      <th>neutralised_image</th>\n",
              "      <th>original_image</th>\n",
              "      <th>original_emotion</th>\n",
              "      <th>name</th>\n",
              "      <th>all_images</th>\n",
              "    </tr>\n",
              "  </thead>\n",
              "  <tbody>\n",
              "    <tr>\n",
              "      <th>5363</th>\n",
              "      <td>[[0, 0, 0, 0, 0, 0, 0, 0, 0, 0, 0, 0, 0, 0, 0,...</td>\n",
              "      <td>[[0, 0, 0, 0, 0, 0, 0, 0, 0, 0, 0, 0, 0, 0, 0,...</td>\n",
              "      <td>happy</td>\n",
              "      <td>115</td>\n",
              "      <td>[[0, 0, 0, 0, 0, 0, 0, 0, 0, 0, 0, 0, 0, 0, 0,...</td>\n",
              "    </tr>\n",
              "    <tr>\n",
              "      <th>10585</th>\n",
              "      <td>[[0, 0, 0, 0, 0, 0, 0, 0, 0, 0, 0, 0, 0, 0, 0,...</td>\n",
              "      <td>[[0, 0, 0, 0, 0, 0, 0, 0, 0, 0, 0, 0, 0, 0, 0,...</td>\n",
              "      <td>contempt</td>\n",
              "      <td>154</td>\n",
              "      <td>[[0, 0, 0, 0, 0, 0, 0, 0, 0, 0, 0, 0, 0, 0, 0,...</td>\n",
              "    </tr>\n",
              "    <tr>\n",
              "      <th>4029</th>\n",
              "      <td>[[0, 0, 0, 0, 0, 0, 0, 0, 0, 0, 0, 0, 0, 0, 0,...</td>\n",
              "      <td>[[0, 0, 0, 0, 0, 0, 0, 0, 0, 0, 0, 0, 0, 0, 0,...</td>\n",
              "      <td>fear</td>\n",
              "      <td>502</td>\n",
              "      <td>[[0, 0, 0, 0, 0, 0, 0, 0, 0, 0, 0, 0, 0, 0, 0,...</td>\n",
              "    </tr>\n",
              "  </tbody>\n",
              "</table>\n",
              "</div>"
            ],
            "text/plain": [
              "                                       neutralised_image  ...                                         all_images\n",
              "5363   [[0, 0, 0, 0, 0, 0, 0, 0, 0, 0, 0, 0, 0, 0, 0,...  ...  [[0, 0, 0, 0, 0, 0, 0, 0, 0, 0, 0, 0, 0, 0, 0,...\n",
              "10585  [[0, 0, 0, 0, 0, 0, 0, 0, 0, 0, 0, 0, 0, 0, 0,...  ...  [[0, 0, 0, 0, 0, 0, 0, 0, 0, 0, 0, 0, 0, 0, 0,...\n",
              "4029   [[0, 0, 0, 0, 0, 0, 0, 0, 0, 0, 0, 0, 0, 0, 0,...  ...  [[0, 0, 0, 0, 0, 0, 0, 0, 0, 0, 0, 0, 0, 0, 0,...\n",
              "\n",
              "[3 rows x 5 columns]"
            ]
          },
          "metadata": {
            "tags": []
          },
          "execution_count": 17
        }
      ]
    },
    {
      "cell_type": "code",
      "metadata": {
        "id": "2O6cgruoKniO",
        "colab_type": "code",
        "colab": {}
      },
      "source": [
        "images_df['original_image'].to_numpy()#, augmented_images_df['neutralised_image'] )"
      ],
      "execution_count": 0,
      "outputs": []
    },
    {
      "cell_type": "code",
      "metadata": {
        "id": "PyWR6O0GDELW",
        "colab_type": "code",
        "colab": {}
      },
      "source": [
        "num_samples = 5000\n",
        "augmented_images_df = augmented_images_df.iloc[:num_samples]"
      ],
      "execution_count": 0,
      "outputs": []
    },
    {
      "cell_type": "code",
      "metadata": {
        "id": "nPjoqWacBhSe",
        "colab_type": "code",
        "outputId": "b0a11b9c-ac21-4063-82ed-f26f3121181f",
        "colab": {
          "base_uri": "https://localhost:8080/",
          "height": 34
        }
      },
      "source": [
        "## Saving some memory by deleting images_df variable\n",
        "%reset_selective \"^images_df$\""
      ],
      "execution_count": 19,
      "outputs": [
        {
          "output_type": "stream",
          "text": [
            "Once deleted, variables cannot be recovered. Proceed (y/[n])?  y\n"
          ],
          "name": "stdout"
        }
      ]
    },
    {
      "cell_type": "code",
      "metadata": {
        "id": "B6hYezswffwq",
        "colab_type": "code",
        "outputId": "acaed45b-4dd9-4d35-c8b2-823288f22fc8",
        "colab": {
          "base_uri": "https://localhost:8080/",
          "height": 34
        }
      },
      "source": [
        "X_rec_origin, y_rec_origin = augmented_images_df[['all_images','original_image', 'neutralised_image']], augmented_images_df['name']\n",
        "\n",
        "X_rec_origin_train, X_rec_origin_test, y_rec_origin_train, y_rec_origin_test = train_test_split(X_rec_origin, y_rec_origin, test_size=0.33, random_state=42)\n",
        "X_rec_origin_train.reset_index(drop=True, inplace=True), X_rec_origin_test.reset_index(drop=True, inplace=True)\n",
        "y_rec_origin_train.reset_index(drop=True, inplace=True), y_rec_origin_test.reset_index(drop=True, inplace=True)\n",
        "X_rec_origin_train.shape, X_rec_origin_test.shape, y_rec_origin_train.shape, y_rec_origin_test.shape"
      ],
      "execution_count": 20,
      "outputs": [
        {
          "output_type": "execute_result",
          "data": {
            "text/plain": [
              "((3350, 3), (1650, 3), (3350,), (1650,))"
            ]
          },
          "metadata": {
            "tags": []
          },
          "execution_count": 20
        }
      ]
    },
    {
      "cell_type": "code",
      "metadata": {
        "id": "nRhkO_i7ffws",
        "colab_type": "code",
        "outputId": "b3601d12-4b38-4abb-9a02-2ce09283635d",
        "colab": {
          "base_uri": "https://localhost:8080/",
          "height": 34
        }
      },
      "source": [
        "len(set(y_rec_origin_train.to_numpy()))"
      ],
      "execution_count": 0,
      "outputs": [
        {
          "output_type": "execute_result",
          "data": {
            "text/plain": [
              "118"
            ]
          },
          "metadata": {
            "tags": []
          },
          "execution_count": 17
        }
      ]
    },
    {
      "cell_type": "code",
      "metadata": {
        "id": "tQ6W2W0mffwu",
        "colab_type": "code",
        "outputId": "01f40cb9-65ce-432d-c525-c1bc46fdde5c",
        "colab": {
          "base_uri": "https://localhost:8080/",
          "height": 221
        }
      },
      "source": [
        "pairPlot(images_df[['neutralised_image']].iloc[205].to_numpy()[0], images_df[['original_image']].iloc[205].to_numpy()[0])"
      ],
      "execution_count": 0,
      "outputs": [
        {
          "output_type": "display_data",
          "data": {
            "text/plain": [
              "<Figure size 432x288 with 0 Axes>"
            ]
          },
          "metadata": {
            "tags": []
          }
        },
        {
          "output_type": "display_data",
          "data": {
            "image/png": "[encoded data removed]",
            "text/plain": [
              "<Figure size 432x288 with 2 Axes>"
            ]
          },
          "metadata": {
            "tags": []
          }
        }
      ]
    },
    {
      "cell_type": "code",
      "metadata": {
        "id": "XnK1hx9Xffww",
        "colab_type": "code",
        "outputId": "cb4521e7-86d9-424b-ff61-5bb567686307",
        "colab": {
          "base_uri": "https://localhost:8080/",
          "height": 34
        }
      },
      "source": [
        ""
      ],
      "execution_count": 0,
      "outputs": [
        {
          "output_type": "execute_result",
          "data": {
            "text/plain": [
              "array([ 68,  10,  68, ..., 115,  62,  56], dtype=int32)"
            ]
          },
          "metadata": {
            "tags": []
          },
          "execution_count": 46
        }
      ]
    },
    {
      "cell_type": "markdown",
      "metadata": {
        "id": "U9RTa5COffwy",
        "colab_type": "text"
      },
      "source": [
        "# Fisher Face"
      ]
    },
    {
      "cell_type": "code",
      "metadata": {
        "id": "_BoA15-Qffwz",
        "colab_type": "code",
        "colab": {}
      },
      "source": [
        "fishface = cv2.face.FisherFaceRecognizer_create() #Initialize fisher face classifier\n",
        "fishface.train(X_rec_origin_train['neutralised_image'].to_numpy(), y_rec_origin_train.to_numpy(dtype=np.int32))"
      ],
      "execution_count": 0,
      "outputs": []
    },
    {
      "cell_type": "code",
      "metadata": {
        "id": "ZSYKvRMKffw2",
        "colab_type": "code",
        "outputId": "82424d17-b915-4b26-e762-922c517cfea6",
        "colab": {
          "base_uri": "https://localhost:8080/",
          "height": 187
        }
      },
      "source": [
        "correct = 0\n",
        "incorrect = 0\n",
        "confidences_original = []\n",
        "confidences_neutralised = []\n",
        "for cnt, image in enumerate(X_rec_origin_test['all_images']):\n",
        "    pred, conf = fishface.predict(image)\n",
        "    \n",
        "    if np.array_equal(image , X_rec_origin_test['original_image'][cnt]):\n",
        "      confidences_original.append(conf)\n",
        "    elif np.array_equal(image , X_rec_origin_test['neutralised_image'][cnt]):\n",
        "      confidences_neutralised.append(conf)\n",
        "    else:\n",
        "      pass #should never happen\n",
        "    \n",
        "    if pred == np.array(y_rec_origin_test)[cnt]:\n",
        "        correct += 1\n",
        "    else:\n",
        "        incorrect += 1\n",
        "\n",
        "    if cnt % 500 == 0:\n",
        "        print(\"[{}] {}% is done\".format(strftime(\"%Y-%m-%d %H:%M:%S\", gmtime()), str(cnt/len(X_rec_origin_test) * 100)))\n",
        "print('Emotion Acc: ', (100*correct)/(correct + incorrect))\n",
        "\n",
        "plt.hist(confidences_original, density=True, alpha=0.5, bins=range(0,100,5), label='original')\n",
        "plt.hist(confidences_neutralised, density=True, alpha=0.5, bins=range(0,100,5), label='neutralised')\n",
        "plt.ylabel('Density')\n",
        "plt.xlabel('Confidence')\n",
        "plt.title('Eigen Face recognition, accuracy: {}'.format( (100*correct)/(correct + incorrect)))\n",
        "plt.savefig('EigenFacerecognition.png')\n",
        "plt.legend()"
      ],
      "execution_count": 0,
      "outputs": [
        {
          "output_type": "stream",
          "text": [
            "[2019-12-10 19:20:06] 0.0% is done\n",
            "[2019-12-10 19:20:08] 30.303030303030305% is done\n",
            "[2019-12-10 19:20:10] 60.60606060606061% is done\n",
            "[2019-12-10 19:20:13] 90.9090909090909% is done\n",
            "Emotion Acc:  99.81818181818181\n",
            "[2019-12-10 19:20:13] 0.0% is done\n",
            "[2019-12-10 19:20:16] 30.303030303030305% is done\n",
            "[2019-12-10 19:20:18] 60.60606060606061% is done\n",
            "[2019-12-10 19:20:21] 90.9090909090909% is done\n",
            "Emotionless Acc:  99.33333333333333\n"
          ],
          "name": "stdout"
        }
      ]
    },
    {
      "cell_type": "code",
      "metadata": {
        "id": "WW3BiwO5ffw7",
        "colab_type": "code",
        "outputId": "83c4788f-6e55-479e-9d20-b20cc5fd5e8e",
        "colab": {}
      },
      "source": [
        "print(fishface.predict(X_rec_origin_test['original_image'][10]), y_rec_origin_test[10], \n",
        "      fishface.predict(X_rec_origin_test['neutralised_image'][10]), y_rec_origin_test[10])"
      ],
      "execution_count": 0,
      "outputs": [
        {
          "output_type": "stream",
          "text": [
            "(90, 4577.445127442707) 55 (55, 134.1073278241769) 55\n"
          ],
          "name": "stdout"
        }
      ]
    },
    {
      "cell_type": "markdown",
      "metadata": {
        "id": "GkS9c04Bffw-",
        "colab_type": "text"
      },
      "source": [
        "# Eigen Face"
      ]
    },
    {
      "cell_type": "code",
      "metadata": {
        "id": "wiQ45xnRffw_",
        "colab_type": "code",
        "colab": {}
      },
      "source": [
        "eigenface = cv2.face.EigenFaceRecognizer_create()\n",
        "eigenface.train(X_rec_origin_train['neutralised_image'].to_numpy(), y_rec_origin_train.to_numpy(dtype=np.int32))"
      ],
      "execution_count": 0,
      "outputs": []
    },
    {
      "cell_type": "code",
      "metadata": {
        "id": "z2GqKhVkffxB",
        "colab_type": "code",
        "colab": {}
      },
      "source": [
        "correct = 0\n",
        "incorrect = 0\n",
        "confidences_original = []\n",
        "confidences_neutralised = []\n",
        "for cnt, image in enumerate(X_rec_origin_test['all_images']):\n",
        "    pred, conf = eigenface.predict(image)\n",
        "    \n",
        "    if np.array_equal(image , X_rec_origin_test['original_image'][cnt]):\n",
        "      confidences_original.append(conf)\n",
        "    elif np.array_equal(image , X_rec_origin_test['neutralised_image'][cnt]):\n",
        "      confidences_neutralised.append(conf)\n",
        "    else:\n",
        "      pass #should never happen\n",
        "    \n",
        "    if pred == np.array(y_rec_origin_test)[cnt]:\n",
        "        correct += 1\n",
        "    else:\n",
        "        incorrect += 1\n",
        "\n",
        "    if cnt % 500 == 0:\n",
        "        print(\"[{}] {}% is done\".format(strftime(\"%Y-%m-%d %H:%M:%S\", gmtime()), str(cnt/len(X_rec_origin_test) * 100)))\n",
        "print('Emotion Acc: ', (100*correct)/(correct + incorrect))\n",
        "\n",
        "plt.hist(confidences_original, density=True, alpha=0.5, bins=range(0,100,5), label='original')\n",
        "plt.hist(confidences_neutralised, density=True, alpha=0.5, bins=range(0,100,5), label='neutralised')\n",
        "plt.ylabel('Density')\n",
        "plt.xlabel('Confidence')\n",
        "plt.title('Eigen Face recognition, accuracy: {}'.format( (100*correct)/(correct + incorrect)))\n",
        "plt.savefig('EigenFacerecognition.png')\n",
        "plt.legend()"
      ],
      "execution_count": 0,
      "outputs": []
    },
    {
      "cell_type": "code",
      "metadata": {
        "id": "-5aCu_sLffxD",
        "colab_type": "code",
        "outputId": "1deb561b-71be-43fa-8e3a-36c7a01719fb",
        "colab": {}
      },
      "source": [
        "print(eigenface.predict(X_rec_origin_test['original_image'][10]), y_rec_origin_test[10], \n",
        "      eigenface.predict(X_rec_origin_test['neutralised_image'][10]), y_rec_origin_test[10])"
      ],
      "execution_count": 0,
      "outputs": [
        {
          "output_type": "stream",
          "text": [
            "(90, 12562.90669242794) 55 (55, 1924.4147285173933) 55\n"
          ],
          "name": "stdout"
        }
      ]
    },
    {
      "cell_type": "markdown",
      "metadata": {
        "id": "7oan5oEkffxG",
        "colab_type": "text"
      },
      "source": [
        "# LBHP "
      ]
    },
    {
      "cell_type": "code",
      "metadata": {
        "id": "_uwJIVxGffxH",
        "colab_type": "code",
        "colab": {}
      },
      "source": [
        "lbph_face = cv2.face.LBPHFaceRecognizer_create()\n",
        "lbph_face.train(X_rec_origin_train['all_images'], y_rec_origin_train.to_numpy(dtype=np.int32))"
      ],
      "execution_count": 0,
      "outputs": []
    },
    {
      "cell_type": "code",
      "metadata": {
        "id": "ZxCps25OffxI",
        "colab_type": "code",
        "outputId": "a47de582-6edd-43e5-a2cc-da4f90b7e7a9",
        "colab": {
          "base_uri": "https://localhost:8080/",
          "height": 397
        }
      },
      "source": [
        "correct = 0\n",
        "incorrect = 0\n",
        "confidences_original = []\n",
        "confidences_neutralised = []\n",
        "for cnt, image in enumerate(X_rec_origin_test['all_images']):\n",
        "    pred, conf = lbph_face.predict(image)\n",
        "    \n",
        "    if np.array_equal(image , X_rec_origin_test['original_image'][cnt]):\n",
        "      confidences_original.append(conf)\n",
        "    elif np.array_equal(image , X_rec_origin_test['neutralised_image'][cnt]):\n",
        "      confidences_neutralised.append(conf)\n",
        "    else:\n",
        "      pass #should never happen\n",
        "    \n",
        "    if pred == np.array(y_rec_origin_test)[cnt]:\n",
        "        correct += 1\n",
        "    else:\n",
        "        incorrect += 1\n",
        "\n",
        "    if cnt % 500 == 0:\n",
        "        print(\"[{}] {}% is done\".format(strftime(\"%Y-%m-%d %H:%M:%S\", gmtime()), str(cnt/len(X_rec_origin_test) * 100)))\n",
        "print('Emotion Acc: ', (100*correct)/(correct + incorrect))\n",
        "\n",
        "plt.hist(confidences_original, density=True, alpha=0.5, bins=range(0,100,5), label='original')\n",
        "plt.hist(confidences_neutralised, density=True, alpha=0.5, bins=range(0,100,5), label='neutralised')\n",
        "plt.ylabel('Density')\n",
        "plt.xlabel('Confidence')\n",
        "plt.title('LBHP Face recognition, accuracy: {}'.format( (100*correct)/(correct + incorrect)))\n",
        "plt.savefig('LBHPFacerecognition.png')\n",
        "plt.legend()"
      ],
      "execution_count": 0,
      "outputs": [
        {
          "output_type": "stream",
          "text": [
            "[2019-12-13 11:17:43] 0.0% is done\n",
            "[2019-12-13 11:19:33] 30.303030303030305% is done\n",
            "[2019-12-13 11:21:23] 60.60606060606061% is done\n",
            "[2019-12-13 11:23:13] 90.9090909090909% is done\n",
            "Emotion Acc:  99.21212121212122\n"
          ],
          "name": "stdout"
        },
        {
          "output_type": "execute_result",
          "data": {
            "text/plain": [
              "<matplotlib.legend.Legend at 0x7f037c8bcac8>"
            ]
          },
          "metadata": {
            "tags": []
          },
          "execution_count": 22
        },
        {
          "output_type": "display_data",
          "data": {
            "image/png": "[encoded data removed]",
            "text/plain": [
              "<Figure size 432x288 with 1 Axes>"
            ]
          },
          "metadata": {
            "tags": []
          }
        }
      ]
    },
    {
      "cell_type": "code",
      "metadata": {
        "id": "s1yJzrCSffxK",
        "colab_type": "code",
        "outputId": "b2874593-1faf-4245-d3db-89f61466507b",
        "colab": {}
      },
      "source": [
        "print(lbph_face.predict(X_rec_origin_test['original_image'][10]), y_rec_origin_test[10], \n",
        "      lbph_face.predict(X_rec_origin_test['neutralised_image'][10]), y_rec_origin_test[10])"
      ],
      "execution_count": 0,
      "outputs": [
        {
          "output_type": "stream",
          "text": [
            "(73, 4.596833089278591) 73 (73, 4.734876506819591) 73\n"
          ],
          "name": "stdout"
        }
      ]
    },
    {
      "cell_type": "code",
      "metadata": {
        "id": "iAyBFJPqffxM",
        "colab_type": "code",
        "outputId": "ea493aa0-d6b3-43a5-dd99-777f36fe800f",
        "colab": {}
      },
      "source": [
        "im_indx = 355\n",
        "pairPlot(images_df.iloc[im_indx]['neutralised_image'],images_df.iloc[im_indx]['original_image'])"
      ],
      "execution_count": 0,
      "outputs": [
        {
          "output_type": "display_data",
          "data": {
            "text/plain": [
              "<Figure size 432x288 with 0 Axes>"
            ]
          },
          "metadata": {
            "tags": []
          }
        },
        {
          "output_type": "display_data",
          "data": {
            "image/png": "[encoded data removed]",
            "text/plain": [
              "<Figure size 432x288 with 2 Axes>"
            ]
          },
          "metadata": {
            "tags": [],
            "needs_background": "light"
          }
        }
      ]
    },
    {
      "cell_type": "code",
      "metadata": {
        "id": "4QOKSK5GffxP",
        "colab_type": "code",
        "outputId": "fbc7cab0-b8b4-47bc-fc26-91bfe955364f",
        "colab": {}
      },
      "source": [
        "print(lbph_face.predict(X_rec_origin_test['original_image'][im_indx]), y_rec_origin_test[im_indx], \n",
        "      lbph_face.predict(X_rec_origin_test['neutralised_image'][im_indx]), y_rec_origin_test[im_indx])"
      ],
      "execution_count": 0,
      "outputs": [
        {
          "output_type": "stream",
          "text": [
            "(75, 4.857063873657447) 75 (75, 14.4775203870867) 75\n"
          ],
          "name": "stdout"
        }
      ]
    },
    {
      "cell_type": "code",
      "metadata": {
        "id": "powfd3pAffxR",
        "colab_type": "code",
        "colab": {}
      },
      "source": [
        ""
      ],
      "execution_count": 0,
      "outputs": []
    }
  ]
}