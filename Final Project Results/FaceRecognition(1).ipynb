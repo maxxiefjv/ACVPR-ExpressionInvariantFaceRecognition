{
  "nbformat": 4,
  "nbformat_minor": 0,
  "metadata": {
    "kernelspec": {
      "display_name": "Python 3",
      "language": "python",
      "name": "python3"
    },
    "language_info": {
      "codemirror_mode": {
        "name": "ipython",
        "version": 3
      },
      "file_extension": ".py",
      "mimetype": "text/x-python",
      "name": "python",
      "nbconvert_exporter": "python",
      "pygments_lexer": "ipython3",
      "version": "3.7.4"
    },
    "colab": {
      "name": "FaceRecognition.ipynb",
      "provenance": [],
      "collapsed_sections": [],
      "toc_visible": true,
      "machine_shape": "hm"
    }
  },
  "cells": [
    {
      "cell_type": "code",
      "metadata": {
        "id": "Ki8MwDZyffwG",
        "colab_type": "code",
        "colab": {}
      },
      "source": [
        "import numpy as np\n",
        "import pandas as pd\n",
        "\n",
        "import matplotlib.pyplot as plt\n",
        "import matplotlib.image as mpimg\n",
        "\n",
        "import cv2\n",
        "\n",
        "import glob\n",
        "\n",
        "from sklearn.model_selection import train_test_split\n",
        "from sklearn.metrics import accuracy_score, classification_report, confusion_matrix\n",
        "\n",
        "from PIL import Image\n",
        "from time import gmtime, strftime"
      ],
      "execution_count": 0,
      "outputs": []
    },
    {
      "cell_type": "code",
      "metadata": {
        "id": "vUI6UlFOOlTY",
        "colab_type": "code",
        "outputId": "404c2718-0de9-4022-a46e-d3f44c7e6872",
        "colab": {
          "base_uri": "https://localhost:8080/",
          "height": 122
        }
      },
      "source": [
        "from google.colab import drive\n",
        "drive.mount('/content/gdrive')"
      ],
      "execution_count": 2,
      "outputs": [
        {
          "output_type": "stream",
          "text": [
            "Go to this URL in a browser: https://accounts.google.com/o/oauth2/auth?client_id=947318989803-6bn6qk8qdgf4n4g3pfee6491hc0brc4i.apps.googleusercontent.com&redirect_uri=urn%3aietf%3awg%3aoauth%3a2.0%3aoob&response_type=code&scope=email%20https%3a%2f%2fwww.googleapis.com%2fauth%2fdocs.test%20https%3a%2f%2fwww.googleapis.com%2fauth%2fdrive%20https%3a%2f%2fwww.googleapis.com%2fauth%2fdrive.photos.readonly%20https%3a%2f%2fwww.googleapis.com%2fauth%2fpeopleapi.readonly\n",
            "\n",
            "Enter your authorization code:\n",
            "··········\n",
            "Mounted at /content/gdrive\n"
          ],
          "name": "stdout"
        }
      ]
    },
    {
      "cell_type": "code",
      "metadata": {
        "id": "v5i_6NEKPXBM",
        "colab_type": "code",
        "colab": {}
      },
      "source": [
        "# !ls gdrive/My\\ Drive/ACVPR/Data"
      ],
      "execution_count": 0,
      "outputs": []
    },
    {
      "cell_type": "code",
      "metadata": {
        "id": "rdamqfmeffwJ",
        "colab_type": "code",
        "colab": {}
      },
      "source": [
        "base_path = \"../Data/CK_CK+/CK+/\""
      ],
      "execution_count": 0,
      "outputs": []
    },
    {
      "cell_type": "code",
      "metadata": {
        "id": "pjdQDZ4YffwM",
        "colab_type": "code",
        "colab": {}
      },
      "source": [
        "neutralised_path = \"NeutralisedImages/CK_CK+/CK+/\" + 'cohn-kanade-images'\n",
        "all_neutralisedImage_files = glob.glob(neutralised_path+'/**/*.png', recursive=True)"
      ],
      "execution_count": 0,
      "outputs": []
    },
    {
      "cell_type": "code",
      "metadata": {
        "id": "s1lrHpJjffwO",
        "colab_type": "code",
        "colab": {}
      },
      "source": [
        "all_emotions = {0: 'neutral', 1: 'anger', 2: 'contempt', 3: 'disgust', \n",
        "                4: 'fear', 5: 'happy', 6: 'sadness', 7: 'surprise'}"
      ],
      "execution_count": 0,
      "outputs": []
    },
    {
      "cell_type": "code",
      "metadata": {
        "id": "f7gqKRIaffwQ",
        "colab_type": "code",
        "colab": {}
      },
      "source": [
        "import copy\n",
        "\n",
        "class Image():\n",
        "    \n",
        "    def __init__(self, image, landmarks, emotion, name):\n",
        "        self.image = image\n",
        "        self.original_image = copy.deepcopy(self.image)\n",
        "        self.name = name\n",
        "        self.emotion = emotion\n",
        "        self.landmarks = landmarks\n",
        "        self.neutralised_image = np.array([])\n",
        "        self.hash = hash(self)\n",
        "    \n",
        "    def getEmotion(self):\n",
        "        return self.emotion\n",
        "    \n",
        "    def getLandmarks(self):\n",
        "        return self.landmarks\n",
        "    \n",
        "    def setNeutralisedImage(self, image):\n",
        "        self.neutralised_image = image\n",
        "        \n",
        "    def getNeutralisedImage(self):\n",
        "        return self.neutralised_image\n",
        "        \n",
        "    def getName(self):\n",
        "        return self.name\n",
        "        \n",
        "    def getImage(self):\n",
        "        return self.image\n",
        "    \n",
        "    def clearImage(self):\n",
        "        self.image= copy.deepcopy(self.original_image)\n",
        "        return self.image\n",
        "    \n",
        "    def getHash(self):\n",
        "\n",
        "        return self.hash"
      ],
      "execution_count": 0,
      "outputs": []
    },
    {
      "cell_type": "code",
      "metadata": {
        "id": "zy6e0AyyffwS",
        "colab_type": "code",
        "colab": {}
      },
      "source": [
        "face_det = cv2.CascadeClassifier(cv2.data.haarcascades + \"haarcascade_frontalface_default.xml\")\n",
        "face_det2 = cv2.CascadeClassifier(cv2.data.haarcascades +\"haarcascade_frontalface_alt2.xml\")\n",
        "face_det3 = cv2.CascadeClassifier(cv2.data.haarcascades +\"haarcascade_frontalface_alt.xml\")\n",
        "face_det4 = cv2.CascadeClassifier(cv2.data.haarcascades +\"haarcascade_frontalface_alt_tree.xml\")\n",
        "\n",
        "def detect_face(f, ld):\n",
        "    ''' function to detect face, crop the image and resize it and resize the corresponding landmarks too '''\n",
        "    frame = cv2.imread(f) #Open image\n",
        "    gray = cv2.cvtColor(frame, cv2.COLOR_BGR2GRAY) #Convert image to grayscale\n",
        "    face = face_det.detectMultiScale(gray, scaleFactor=1.1, minNeighbors=10, minSize=(5, 5), flags=cv2.CASCADE_SCALE_IMAGE)\n",
        "    face2 = face_det2.detectMultiScale(gray, scaleFactor=1.1, minNeighbors=10, minSize=(5, 5), flags=cv2.CASCADE_SCALE_IMAGE)\n",
        "    face3 = face_det3.detectMultiScale(gray, scaleFactor=1.1, minNeighbors=10, minSize=(5, 5), flags=cv2.CASCADE_SCALE_IMAGE)\n",
        "    face4 = face_det4.detectMultiScale(gray, scaleFactor=1.1, minNeighbors=10, minSize=(5, 5), flags=cv2.CASCADE_SCALE_IMAGE)\n",
        "#     ld = np.array([np.array(i) for i in ld])\n",
        "    crop_ld = ld\n",
        "    #Go over detected faces, stop at first detected face, return empty if no face.\n",
        "    if len(face) == 1:\n",
        "        facefeatures = face\n",
        "    elif len(face2) == 1:\n",
        "        facefeatures = face2\n",
        "    elif len(face3) == 1:\n",
        "        facefeatures = face3\n",
        "    elif len(face4) == 1:\n",
        "        facefeatures = face4\n",
        "    else:\n",
        "        facefeatures = \"\"\n",
        "    for (x, y, w, h) in facefeatures:\n",
        "        fw, fh = w, h\n",
        "        if any(ld[:,0] > x+w):\n",
        "            fw = int(max(ld[:,0]-x))\n",
        "        if any(ld[:,1] > y+h):\n",
        "            fh = int(max(ld[:,1]-y))\n",
        "#         gray = gray[y:y+h, x:x+w] #Cut the frame to size\n",
        "        gray = gray[y:y+fh+5, x:x+fw+5] #Cut the frame to size to max of landmark with padding of 5px\n",
        "        ld_rescale_factor = (gray.shape[1]/crop_imsize, (gray.shape[0]/crop_imsize))\n",
        "        crop_ld = np.array(list(zip(ld[:,0]-x, ld[:, 1]-y)))\n",
        "    try:\n",
        "        output = cv2.resize(gray, (crop_imsize, crop_imsize))\n",
        "        crop_ld = crop_ld/ld_rescale_factor\n",
        "        cv2.imwrite(crop_path+'/crop_'+f.split('/')[-1], output)\n",
        "    except:\n",
        "        output = gray\n",
        "\n",
        "    return output, crop_ld"
      ],
      "execution_count": 0,
      "outputs": []
    },
    {
      "cell_type": "code",
      "metadata": {
        "id": "BRtSk3hkffwV",
        "colab_type": "code",
        "colab": {}
      },
      "source": [
        "def pairPlot(im1, im2, clear_figure=False, title=''):\n",
        "    if not clear_figure:\n",
        "        plt.figure()\n",
        "    \n",
        "    fig, axes = plt.subplots(1,2)\n",
        "    axes[0].set_title(\"Images full\")\n",
        "    axes[0].imshow(im1)\n",
        "    axes[1].set_title(\"Neutralised\")    \n",
        "    axes[1].imshow(im2)\n",
        "\n",
        "    fig.suptitle(title, fontsize=16)\n",
        "    \n",
        "def getTrianglePts(triangle_points_array):\n",
        "    return (tuple(triangle_points_array[0:2].astype(np.int32)), tuple(triangle_points_array[2:4].astype(np.int32)), tuple(triangle_points_array[4:6].astype(np.int32)))\n",
        "\n",
        "def getTriangleImage(im, triangle_points_array):\n",
        "    pt1, pt2, pt3 = getTrianglePts(triangle_points_array)\n",
        "    triangle = np.array([pt1, pt2, pt3])\n",
        "    \n",
        "    triangle_im = im\n",
        "    triangle_mask = np.zeros_like(im)\n",
        "\n",
        "    triangle_mask_fill_points = np.array([\n",
        "            [pt1[0], pt1[1]],\n",
        "            [pt2[0], pt2[1]],\n",
        "            [pt3[0], pt3[1]]\n",
        "        ], np.int32)\n",
        "    cv2.fillConvexPoly(triangle_mask, triangle_mask_fill_points, (255,255,255))\n",
        "        \n",
        "    cropped_triangle = cv2.bitwise_and(triangle_mask, triangle_im)\n",
        "    return cropped_triangle\n",
        "\n",
        "def cropByLandmarks(im,ld):\n",
        "    landmarks = list(map(lambda x: tuple(x),ld))\n",
        "\n",
        "    im_shape = im.shape\n",
        "    \n",
        "    rect = (0,0,im_shape[1],im_shape[0])\n",
        "    subdiv = cv2.Subdiv2D(rect)\n",
        "    subdiv.insert(landmarks)\n",
        "    \n",
        "    triangles = subdiv.getTriangleList()\n",
        "    cropped_image = np.zeros_like(im) \n",
        "    for triangle in triangles:\n",
        "        triangle_image = getTriangleImage(im, triangle)      \n",
        "        cropped_image = cv2.add(cropped_image, triangle_image)\n",
        "\n",
        "    return cropped_image"
      ],
      "execution_count": 0,
      "outputs": []
    },
    {
      "cell_type": "code",
      "metadata": {
        "id": "w8LyNlS8ffwX",
        "colab_type": "code",
        "colab": {}
      },
      "source": [
        "# from tqdm import tqdm\n",
        "\n",
        "# crop_imsize = 350\n",
        "# subjects = []\n",
        "\n",
        "# with tqdm(total=len(all_neutralisedImage_files), desc=\"Processing entries\") as pbar:\n",
        "\n",
        "#     for neutral_image_path in all_neutralisedImage_files[:]:\n",
        "\n",
        "#         original_image_path = \"../Data/\" + \"/\".join(neutral_image_path.split(\"/\")[1:])\n",
        "#         landmark_path = base_path + \"Landmarks/\" + \"/\".join(neutral_image_path.split(\"/\")[4:])[:-4] + '_landmarks.txt'\n",
        "#         emotion_path = base_path + \"Emotion/\" + \"/\".join(neutral_image_path.split(\"/\")[4:-1])\n",
        "        \n",
        "#         emotion_files = glob.glob(emotion_path+'/*.txt')\n",
        "\n",
        "#         if len(emotion_files) < 1:\n",
        "#             pbar.update(1)\n",
        "#             continue\n",
        "\n",
        "#         with open(emotion_files[0]) as emotion_file:\n",
        "#             emotion = emotion_file.read()\n",
        "#             emotion = all_emotions[(int(float(emotion)))]\n",
        "\n",
        "#         landmarks = np.loadtxt(landmark_path)\n",
        "        \n",
        "#         original_image, resized_landmarks = detect_face(original_image_path, landmarks)  \n",
        "#         original_image = cv2.resize(original_image,(crop_imsize, crop_imsize))\n",
        "#         original_image = cropByLandmarks(original_image, resized_landmarks)\n",
        "\n",
        "#         neutralised_image = cv2.imread(neutral_image_path) #Open Neutralised image\n",
        "#         neutralised_image = cv2.cvtColor(neutralised_image, cv2.COLOR_BGR2GRAY)\n",
        "# #         pairPlot(original_image, neutralised_image)\n",
        "#         im_object = Image(original_image, landmarks, emotion, int((original_image_path.split(\"/\")[-1])[:-4].split('_')[0][1:]))\n",
        "#         im_object.setNeutralisedImage(neutralised_image)\n",
        "\n",
        "#         subjects.append(im_object)\n",
        "#         pbar.update(1)"
      ],
      "execution_count": 0,
      "outputs": []
    },
    {
      "cell_type": "markdown",
      "metadata": {
        "id": "6X8nonJfffwZ",
        "colab_type": "text"
      },
      "source": [
        "## Half of the images do not have an emotion???!"
      ]
    },
    {
      "cell_type": "code",
      "metadata": {
        "id": "BL88dgNwffwa",
        "colab_type": "code",
        "colab": {}
      },
      "source": [
        "# len(subjects)"
      ],
      "execution_count": 0,
      "outputs": []
    },
    {
      "cell_type": "markdown",
      "metadata": {
        "id": "YNwE68q9ffwc",
        "colab_type": "text"
      },
      "source": [
        "# Create datasets for face recognition and exp recognition"
      ]
    },
    {
      "cell_type": "code",
      "metadata": {
        "id": "2cuR7jveffwd",
        "colab_type": "code",
        "outputId": "b5e001a2-c062-434a-e54a-cdbab14726a0",
        "colab": {
          "base_uri": "https://localhost:8080/",
          "height": 34
        }
      },
      "source": [
        "!ls"
      ],
      "execution_count": 12,
      "outputs": [
        {
          "output_type": "stream",
          "text": [
            "gdrive\tsample_data\n"
          ],
          "name": "stdout"
        }
      ]
    },
    {
      "cell_type": "code",
      "metadata": {
        "id": "c0xmKB5Yffwf",
        "colab_type": "code",
        "colab": {}
      },
      "source": [
        "# images_data = []\n",
        "\n",
        "# for image in subjects:\n",
        "#     images_data.append(np.array([image.getNeutralisedImage(), image.getImage(), image.getEmotion(), image.getName()]))\n",
        "\n",
        "# images_df = pd.DataFrame(images_data, columns=['neutralised_image', 'original_image', 'original_emotion', 'name'])"
      ],
      "execution_count": 0,
      "outputs": []
    },
    {
      "cell_type": "code",
      "metadata": {
        "id": "u7DWLVHGffwh",
        "colab_type": "code",
        "colab": {}
      },
      "source": [
        "# images_df.to_pickle('./joined_images_df.pkl')"
      ],
      "execution_count": 0,
      "outputs": []
    },
    {
      "cell_type": "code",
      "metadata": {
        "id": "KFdPmMF1ffwj",
        "colab_type": "code",
        "colab": {}
      },
      "source": [
        "images_df = pd.read_pickle('gdrive/My Drive/ACVPR/Data/joined_images_df.pkl')"
      ],
      "execution_count": 0,
      "outputs": []
    },
    {
      "cell_type": "code",
      "metadata": {
        "id": "RnEIllIfffwl",
        "colab_type": "code",
        "colab": {}
      },
      "source": [
        "## Add original images to dataset\n",
        "augmented_images_df = pd.DataFrame(columns=np.append(images_df.columns.values, 'all_images'))\n",
        "\n",
        "for index, image in images_df.iterrows():\n",
        "    resized_scale = (160,160)\n",
        "    resized_original = cv2.resize(image['original_image'], resized_scale) \n",
        "    resized_neutralised = cv2.resize(image['neutralised_image'], resized_scale) \n",
        "\n",
        "    # original format, but resized\n",
        "    augmented_images_df = augmented_images_df.append({\n",
        "        'all_images': resized_original, \n",
        "        'neutralised_image': resized_neutralised , \n",
        "        'original_image': resized_original, \n",
        "        'original_emotion': image['original_emotion'], \n",
        "        'name': image['name']}, \n",
        "        ignore_index=True)\n",
        "    \n",
        "    # swapped format and resized\n",
        "    augmented_images_df = augmented_images_df.append({\n",
        "        'all_images': resized_neutralised, \n",
        "        'neutralised_image': resized_neutralised , \n",
        "        'original_image': resized_original, \n",
        "        'original_emotion': image['original_emotion'], \n",
        "        'name': image['name']}, \n",
        "        ignore_index=True)"
      ],
      "execution_count": 0,
      "outputs": []
    },
    {
      "cell_type": "code",
      "metadata": {
        "id": "T5Fcbws5CFPo",
        "colab_type": "code",
        "colab": {}
      },
      "source": [
        "augmented_images_df = augmented_images_df.sample(frac=1)"
      ],
      "execution_count": 0,
      "outputs": []
    },
    {
      "cell_type": "code",
      "metadata": {
        "id": "WvRLnVykffwn",
        "colab_type": "code",
        "outputId": "472d93eb-18c2-4c10-fe78-6d75a44b0a00",
        "colab": {
          "base_uri": "https://localhost:8080/",
          "height": 159
        }
      },
      "source": [
        "print(len(images_df), len(augmented_images_df))\n",
        "augmented_images_df.head(3)"
      ],
      "execution_count": 0,
      "outputs": [
        {
          "output_type": "stream",
          "text": [
            "5876 11752\n"
          ],
          "name": "stdout"
        },
        {
          "output_type": "execute_result",
          "data": {
            "text/html": [
              "<div>\n",
              "<style scoped>\n",
              "    .dataframe tbody tr th:only-of-type {\n",
              "        vertical-align: middle;\n",
              "    }\n",
              "\n",
              "    .dataframe tbody tr th {\n",
              "        vertical-align: top;\n",
              "    }\n",
              "\n",
              "    .dataframe thead th {\n",
              "        text-align: right;\n",
              "    }\n",
              "</style>\n",
              "<table border=\"1\" class=\"dataframe\">\n",
              "  <thead>\n",
              "    <tr style=\"text-align: right;\">\n",
              "      <th></th>\n",
              "      <th>neutralised_image</th>\n",
              "      <th>original_image</th>\n",
              "      <th>original_emotion</th>\n",
              "      <th>name</th>\n",
              "      <th>all_images</th>\n",
              "    </tr>\n",
              "  </thead>\n",
              "  <tbody>\n",
              "    <tr>\n",
              "      <th>7677</th>\n",
              "      <td>[[0, 0, 0, 0, 0, 0, 0, 0, 0, 0, 0, 0, 0, 0, 0,...</td>\n",
              "      <td>[[0, 0, 0, 0, 0, 0, 0, 0, 0, 0, 0, 0, 0, 0, 0,...</td>\n",
              "      <td>anger</td>\n",
              "      <td>67</td>\n",
              "      <td>[[0, 0, 0, 0, 0, 0, 0, 0, 0, 0, 0, 0, 0, 0, 0,...</td>\n",
              "    </tr>\n",
              "    <tr>\n",
              "      <th>4914</th>\n",
              "      <td>[[0, 0, 0, 0, 0, 0, 0, 0, 0, 0, 0, 0, 0, 0, 0,...</td>\n",
              "      <td>[[0, 0, 0, 0, 0, 0, 0, 0, 0, 0, 0, 0, 0, 0, 0,...</td>\n",
              "      <td>contempt</td>\n",
              "      <td>151</td>\n",
              "      <td>[[0, 0, 0, 0, 0, 0, 0, 0, 0, 0, 0, 0, 0, 0, 0,...</td>\n",
              "    </tr>\n",
              "    <tr>\n",
              "      <th>1309</th>\n",
              "      <td>[[0, 0, 0, 0, 0, 0, 0, 0, 0, 0, 0, 0, 0, 0, 0,...</td>\n",
              "      <td>[[0, 0, 0, 0, 0, 0, 0, 0, 0, 0, 0, 0, 0, 0, 0,...</td>\n",
              "      <td>happy</td>\n",
              "      <td>98</td>\n",
              "      <td>[[0, 0, 0, 0, 0, 0, 0, 0, 0, 0, 0, 0, 0, 0, 0,...</td>\n",
              "    </tr>\n",
              "  </tbody>\n",
              "</table>\n",
              "</div>"
            ],
            "text/plain": [
              "                                      neutralised_image  ...                                         all_images\n",
              "7677  [[0, 0, 0, 0, 0, 0, 0, 0, 0, 0, 0, 0, 0, 0, 0,...  ...  [[0, 0, 0, 0, 0, 0, 0, 0, 0, 0, 0, 0, 0, 0, 0,...\n",
              "4914  [[0, 0, 0, 0, 0, 0, 0, 0, 0, 0, 0, 0, 0, 0, 0,...  ...  [[0, 0, 0, 0, 0, 0, 0, 0, 0, 0, 0, 0, 0, 0, 0,...\n",
              "1309  [[0, 0, 0, 0, 0, 0, 0, 0, 0, 0, 0, 0, 0, 0, 0,...  ...  [[0, 0, 0, 0, 0, 0, 0, 0, 0, 0, 0, 0, 0, 0, 0,...\n",
              "\n",
              "[3 rows x 5 columns]"
            ]
          },
          "metadata": {
            "tags": []
          },
          "execution_count": 15
        }
      ]
    },
    {
      "cell_type": "code",
      "metadata": {
        "id": "2O6cgruoKniO",
        "colab_type": "code",
        "outputId": "46b39e85-b149-49d8-c9dd-a406a2838df1",
        "colab": {
          "base_uri": "https://localhost:8080/",
          "height": 142
        }
      },
      "source": [
        "images_df.head(3)"
      ],
      "execution_count": 23,
      "outputs": [
        {
          "output_type": "execute_result",
          "data": {
            "text/html": [
              "<div>\n",
              "<style scoped>\n",
              "    .dataframe tbody tr th:only-of-type {\n",
              "        vertical-align: middle;\n",
              "    }\n",
              "\n",
              "    .dataframe tbody tr th {\n",
              "        vertical-align: top;\n",
              "    }\n",
              "\n",
              "    .dataframe thead th {\n",
              "        text-align: right;\n",
              "    }\n",
              "</style>\n",
              "<table border=\"1\" class=\"dataframe\">\n",
              "  <thead>\n",
              "    <tr style=\"text-align: right;\">\n",
              "      <th></th>\n",
              "      <th>neutralised_image</th>\n",
              "      <th>original_image</th>\n",
              "      <th>original_emotion</th>\n",
              "      <th>name</th>\n",
              "    </tr>\n",
              "  </thead>\n",
              "  <tbody>\n",
              "    <tr>\n",
              "      <th>0</th>\n",
              "      <td>[[0, 0, 0, 0, 0, 0, 0, 0, 0, 0, 0, 0, 0, 0, 0,...</td>\n",
              "      <td>[[0, 0, 0, 0, 0, 0, 0, 0, 0, 0, 0, 0, 0, 0, 0,...</td>\n",
              "      <td>disgust</td>\n",
              "      <td>111</td>\n",
              "    </tr>\n",
              "    <tr>\n",
              "      <th>1</th>\n",
              "      <td>[[0, 0, 0, 0, 0, 0, 0, 0, 0, 0, 0, 0, 0, 0, 0,...</td>\n",
              "      <td>[[0, 0, 0, 0, 0, 0, 0, 0, 0, 0, 0, 0, 0, 0, 0,...</td>\n",
              "      <td>disgust</td>\n",
              "      <td>111</td>\n",
              "    </tr>\n",
              "    <tr>\n",
              "      <th>2</th>\n",
              "      <td>[[0, 0, 0, 0, 0, 0, 0, 0, 0, 0, 0, 0, 0, 0, 0,...</td>\n",
              "      <td>[[0, 0, 0, 0, 0, 0, 0, 0, 0, 0, 0, 0, 0, 0, 0,...</td>\n",
              "      <td>disgust</td>\n",
              "      <td>111</td>\n",
              "    </tr>\n",
              "  </tbody>\n",
              "</table>\n",
              "</div>"
            ],
            "text/plain": [
              "                                   neutralised_image  ... name\n",
              "0  [[0, 0, 0, 0, 0, 0, 0, 0, 0, 0, 0, 0, 0, 0, 0,...  ...  111\n",
              "1  [[0, 0, 0, 0, 0, 0, 0, 0, 0, 0, 0, 0, 0, 0, 0,...  ...  111\n",
              "2  [[0, 0, 0, 0, 0, 0, 0, 0, 0, 0, 0, 0, 0, 0, 0,...  ...  111\n",
              "\n",
              "[3 rows x 4 columns]"
            ]
          },
          "metadata": {
            "tags": []
          },
          "execution_count": 23
        }
      ]
    },
    {
      "cell_type": "code",
      "metadata": {
        "id": "PyWR6O0GDELW",
        "colab_type": "code",
        "colab": {}
      },
      "source": [
        "num_samples = 2000\n",
        "augmented_images_df = augmented_images_df.iloc[:num_samples]"
      ],
      "execution_count": 0,
      "outputs": []
    },
    {
      "cell_type": "code",
      "metadata": {
        "id": "nPjoqWacBhSe",
        "colab_type": "code",
        "outputId": "e6e00626-753c-4233-e19f-2fe6ecc0f747",
        "colab": {
          "base_uri": "https://localhost:8080/",
          "height": 34
        }
      },
      "source": [
        "## Saving some memory by deleting images_df variable\n",
        "%reset_selective \"^images_df$\""
      ],
      "execution_count": 0,
      "outputs": [
        {
          "output_type": "stream",
          "text": [
            "Once deleted, variables cannot be recovered. Proceed (y/[n])?  y\n"
          ],
          "name": "stdout"
        }
      ]
    },
    {
      "cell_type": "code",
      "metadata": {
        "id": "B6hYezswffwq",
        "colab_type": "code",
        "outputId": "c83ffdbf-c083-4533-baf4-c0a149772321",
        "colab": {
          "base_uri": "https://localhost:8080/",
          "height": 34
        }
      },
      "source": [
        "# X_rec_origin, y_rec_origin = augmented_images_df[['all_images','original_image', 'neutralised_image']], augmented_images_df['name']\n",
        "X_rec_origin, y_rec_origin = images_df[['original_image', 'neutralised_image']], images_df['name']\n",
        "\n",
        "X_rec_origin_train, X_rec_origin_test, y_rec_origin_train, y_rec_origin_test = train_test_split(X_rec_origin, y_rec_origin, test_size=0.33, random_state=42)\n",
        "X_rec_origin_train.reset_index(drop=True, inplace=True), X_rec_origin_test.reset_index(drop=True, inplace=True)\n",
        "y_rec_origin_train.reset_index(drop=True, inplace=True), y_rec_origin_test.reset_index(drop=True, inplace=True)\n",
        "X_rec_origin_train.shape, X_rec_origin_test.shape, y_rec_origin_train.shape, y_rec_origin_test.shape"
      ],
      "execution_count": 14,
      "outputs": [
        {
          "output_type": "execute_result",
          "data": {
            "text/plain": [
              "((3936, 2), (1940, 2), (3936,), (1940,))"
            ]
          },
          "metadata": {
            "tags": []
          },
          "execution_count": 14
        }
      ]
    },
    {
      "cell_type": "code",
      "metadata": {
        "id": "nRhkO_i7ffws",
        "colab_type": "code",
        "outputId": "b3601d12-4b38-4abb-9a02-2ce09283635d",
        "colab": {
          "base_uri": "https://localhost:8080/",
          "height": 34
        }
      },
      "source": [
        "len(set(y_rec_origin_train.to_numpy()))"
      ],
      "execution_count": 0,
      "outputs": [
        {
          "output_type": "execute_result",
          "data": {
            "text/plain": [
              "118"
            ]
          },
          "metadata": {
            "tags": []
          },
          "execution_count": 17
        }
      ]
    },
    {
      "cell_type": "code",
      "metadata": {
        "id": "tQ6W2W0mffwu",
        "colab_type": "code",
        "outputId": "55a3ba10-c56d-4266-d9c7-e1185acbf0d9",
        "colab": {
          "base_uri": "https://localhost:8080/",
          "height": 233
        }
      },
      "source": [
        "pairPlot(images_df[['original_image']].iloc[205].to_numpy()[0], images_df[['neutralised_image']].iloc[205].to_numpy()[0])"
      ],
      "execution_count": 21,
      "outputs": [
        {
          "output_type": "display_data",
          "data": {
            "text/plain": [
              "<Figure size 432x288 with 0 Axes>"
            ]
          },
          "metadata": {
            "tags": []
          }
        },
        {
          "output_type": "display_data",
          "data": {
            "image/png": "[encoded data removed]",
            "text/plain": [
              "<Figure size 432x288 with 2 Axes>"
            ]
          },
          "metadata": {
            "tags": []
          }
        }
      ]
    },
    {
      "cell_type": "code",
      "metadata": {
        "id": "XnK1hx9Xffww",
        "colab_type": "code",
        "colab": {}
      },
      "source": [
        "def normalise_conf(conf_list):\n",
        "    # return normalised list with the sum equal to 100\n",
        "    conf_sum = max(conf_list)\n",
        "    return [float(x)/conf_sum*100 for x in conf_list]"
      ],
      "execution_count": 0,
      "outputs": []
    },
    {
      "cell_type": "markdown",
      "metadata": {
        "id": "U9RTa5COffwy",
        "colab_type": "text"
      },
      "source": [
        "# Fisher Face"
      ]
    },
    {
      "cell_type": "code",
      "metadata": {
        "id": "_BoA15-Qffwz",
        "colab_type": "code",
        "colab": {}
      },
      "source": [
        "fishface = cv2.face.FisherFaceRecognizer_create() #Initialize fisher face classifier\n",
        "fishface.train(X_rec_origin_train['original_image'].to_numpy(), y_rec_origin_train.to_numpy(dtype=np.int32))"
      ],
      "execution_count": 0,
      "outputs": []
    },
    {
      "cell_type": "code",
      "metadata": {
        "id": "VziMjBh75w4C",
        "colab_type": "code",
        "colab": {}
      },
      "source": [
        "correct = 0\n",
        "incorrect = 0\n",
        "confidences_original = []\n",
        "confidences_neutralised = []\n",
        "for cnt, image in enumerate(X_rec_origin_test['original_image']):\n",
        "    pred, conf = fishface.predict(image)\n",
        "    \n",
        "    confidences_original.append(conf)\n",
        "    \n",
        "    if pred == np.array(y_rec_origin_test)[cnt]:\n",
        "        correct += 1\n",
        "    else:\n",
        "        incorrect += 1\n",
        "\n",
        "    if cnt % 500 == 0:\n",
        "        print(\"[{}] {}% is done\".format(strftime(\"%Y-%m-%d %H:%M:%S\", gmtime()), str(cnt/len(X_rec_origin_test) * 100)))\n",
        "print('Emotion Acc: ', (100*correct)/(correct + incorrect))\n",
        "\n",
        "plt.hist(normalise_conf(confidences_original), density=False, alpha=0.5, bins=range(0,100,5), label='original')\n",
        "\n",
        "plt.ylabel('Density')\n",
        "plt.xlabel('Confidence')\n",
        "\n",
        "plt.title('Fisher Face recognition original faces only, accuracy: {},\\n \\\n",
        "    Original: Std= {}, Mean= {}'.format( \n",
        "    np.around( (100*correct)/(correct + incorrect), 4),\n",
        "    np.around( np.std(normalise_conf(confidences_original)),4),\n",
        "    np.around( np.mean(normalise_conf(confidences_original)),4)))\n",
        "\n",
        "plt.savefig('gdrive/My Drive/ACVPR/FisherFacerecognition_original_only.png')\n",
        "plt.legend()"
      ],
      "execution_count": 0,
      "outputs": []
    },
    {
      "cell_type": "code",
      "metadata": {
        "id": "ZSYKvRMKffw2",
        "colab_type": "code",
        "outputId": "178e31ed-d3b9-42c7-cd24-4ec08aba2e4e",
        "colab": {
          "base_uri": "https://localhost:8080/",
          "height": 393
        }
      },
      "source": [
        "correct = 0\n",
        "incorrect = 0\n",
        "confidences_original = []\n",
        "confidences_neutralised = []\n",
        "for cnt, image in enumerate(X_rec_origin_test['all_images']):\n",
        "    pred, conf = fishface.predict(image)\n",
        "    \n",
        "    if np.array_equal(image , X_rec_origin_test['original_image'][cnt]):\n",
        "      confidences_original.append(conf)\n",
        "    elif np.array_equal(image , X_rec_origin_test['neutralised_image'][cnt]):\n",
        "      confidences_neutralised.append(conf)\n",
        "    else:\n",
        "      pass #should never happen\n",
        "    \n",
        "    if pred == np.array(y_rec_origin_test)[cnt]:\n",
        "        correct += 1\n",
        "    else:\n",
        "        incorrect += 1\n",
        "\n",
        "    if cnt % 500 == 0:\n",
        "        print(\"[{}] {}% is done\".format(strftime(\"%Y-%m-%d %H:%M:%S\", gmtime()), str(cnt/len(X_rec_origin_test) * 100)))\n",
        "print('Emotion Acc: ', (100*correct)/(correct + incorrect))\n",
        "\n",
        "plt.hist(normalise_conf(confidences_original), density=False, alpha=0.5, bins=range(0,100,5), label='original')\n",
        "plt.hist(normalise_conf(confidences_neutralised), density=False, alpha=0.5, bins=range(0,100,5), label='neutralised')\n",
        "plt.ylabel('Density')\n",
        "plt.xlabel('Confidence')\n",
        "\n",
        "\n",
        "plt.title('Fisher Face recognition, accuracy: {},\\n \\\n",
        "    Original: Std= {}, Mean= {}\\n \\\n",
        "    Neutralised: Std= {}, Mean= {}'.format( \n",
        "    np.around( (100*correct)/(correct + incorrect), 4),\n",
        "    np.around( np.std(normalise_conf(confidences_original)),4),\n",
        "    np.around( np.mean(normalise_conf(confidences_original)),4),\n",
        "    np.around( np.std(normalise_conf(confidences_neutralised)),4),\n",
        "    np.around( np.mean(normalise_conf(confidences_neutralised)),4)))\n",
        "\n",
        "plt.savefig('gdrive/My Drive/ACVPR/FisherFacerecognition.png')\n",
        "plt.legend()"
      ],
      "execution_count": 0,
      "outputs": [
        {
          "output_type": "stream",
          "text": [
            "[2019-12-15 19:24:25] 0.0% is done\n",
            "[2019-12-15 19:24:26] 75.75757575757575% is done\n",
            "Emotion Acc:  100.0\n"
          ],
          "name": "stdout"
        },
        {
          "output_type": "execute_result",
          "data": {
            "text/plain": [
              "<matplotlib.legend.Legend at 0x7fb70463cf98>"
            ]
          },
          "metadata": {
            "tags": []
          },
          "execution_count": 72
        },
        {
          "output_type": "display_data",
          "data": {
            "image/png": "[encoded data removed]",
            "text/plain": [
              "<Figure size 432x288 with 1 Axes>"
            ]
          },
          "metadata": {
            "tags": []
          }
        }
      ]
    },
    {
      "cell_type": "code",
      "metadata": {
        "id": "WW3BiwO5ffw7",
        "colab_type": "code",
        "outputId": "83c4788f-6e55-479e-9d20-b20cc5fd5e8e",
        "colab": {}
      },
      "source": [
        "print(fishface.predict(X_rec_origin_test['original_image'][10]), y_rec_origin_test[10], \n",
        "      fishface.predict(X_rec_origin_test['neutralised_image'][10]), y_rec_origin_test[10])"
      ],
      "execution_count": 0,
      "outputs": [
        {
          "output_type": "stream",
          "text": [
            "(90, 4577.445127442707) 55 (55, 134.1073278241769) 55\n"
          ],
          "name": "stdout"
        }
      ]
    },
    {
      "cell_type": "markdown",
      "metadata": {
        "id": "GkS9c04Bffw-",
        "colab_type": "text"
      },
      "source": [
        "# Eigen Face"
      ]
    },
    {
      "cell_type": "code",
      "metadata": {
        "id": "wiQ45xnRffw_",
        "colab_type": "code",
        "colab": {}
      },
      "source": [
        "eigenface = cv2.face.EigenFaceRecognizer_create()\n",
        "eigenface.train(X_rec_origin_train['original_image'].to_numpy(), y_rec_origin_train.to_numpy(dtype=np.int32))"
      ],
      "execution_count": 0,
      "outputs": []
    },
    {
      "cell_type": "code",
      "metadata": {
        "id": "MmkXFl2O5rMC",
        "colab_type": "code",
        "colab": {
          "base_uri": "https://localhost:8080/",
          "height": 412
        },
        "outputId": "ffeb3a64-90b7-463f-87b6-f250eada6a18"
      },
      "source": [
        "correct = 0\n",
        "incorrect = 0\n",
        "confidences_original = []\n",
        "confidences_neutralised = []\n",
        "for cnt, image in enumerate(X_rec_origin_test['original_image']):\n",
        "    pred, conf = eigenface.predict(image)\n",
        "    \n",
        "    confidences_original.append(conf)\n",
        "    \n",
        "    if pred == np.array(y_rec_origin_test)[cnt]:\n",
        "        correct += 1\n",
        "    else:\n",
        "        incorrect += 1\n",
        "\n",
        "    if cnt % 500 == 0:\n",
        "        print(\"[{}] {}% is done\".format(strftime(\"%Y-%m-%d %H:%M:%S\", gmtime()), str(cnt/len(X_rec_origin_test) * 100)))\n",
        "print('Emotion Acc: ', (100*correct)/(correct + incorrect))\n",
        "\n",
        "plt.hist(normalise_conf(confidences_original), density=False, alpha=0.5, bins=range(0,100,5), label='original')\n",
        "\n",
        "plt.ylabel('Density')\n",
        "plt.xlabel('Confidence')\n",
        "\n",
        "plt.title('Eigen Face recognition original faces only, accuracy: {},\\n \\\n",
        "    Original: Std= {}, Mean= {}'.format( \n",
        "    np.around( (100*correct)/(correct + incorrect), 4),\n",
        "    np.around( np.std(normalise_conf(confidences_original)),4),\n",
        "    np.around( np.mean(normalise_conf(confidences_original)),4)))\n",
        "\n",
        "plt.savefig('gdrive/My Drive/ACVPR/EigenFacerecognition_original_only.png')\n",
        "plt.legend()"
      ],
      "execution_count": 31,
      "outputs": [
        {
          "output_type": "stream",
          "text": [
            "[2019-12-19 01:47:57] 0.0% is done\n",
            "[2019-12-19 01:58:15] 25.773195876288657% is done\n",
            "[2019-12-19 02:08:49] 51.546391752577314% is done\n",
            "[2019-12-19 02:19:39] 77.31958762886599% is done\n",
            "Emotion Acc:  99.89690721649484\n"
          ],
          "name": "stdout"
        },
        {
          "output_type": "execute_result",
          "data": {
            "text/plain": [
              "<matplotlib.legend.Legend at 0x7f1dbb3c5cf8>"
            ]
          },
          "metadata": {
            "tags": []
          },
          "execution_count": 31
        },
        {
          "output_type": "display_data",
          "data": {
            "image/png": "[encoded data removed]",
            "text/plain": [
              "<Figure size 432x288 with 1 Axes>"
            ]
          },
          "metadata": {
            "tags": []
          }
        }
      ]
    },
    {
      "cell_type": "code",
      "metadata": {
        "id": "z2GqKhVkffxB",
        "colab_type": "code",
        "outputId": "130de227-5258-4653-d4c6-7d378db09fbf",
        "colab": {
          "base_uri": "https://localhost:8080/",
          "height": 393
        }
      },
      "source": [
        "correct = 0\n",
        "incorrect = 0\n",
        "confidences_original = []\n",
        "confidences_neutralised = []\n",
        "for cnt, image in enumerate(X_rec_origin_test['all_images']):\n",
        "    pred, conf = eigenface.predict(image)\n",
        "    \n",
        "    if np.array_equal(image , X_rec_origin_test['original_image'][cnt]):\n",
        "      confidences_original.append(conf)\n",
        "    elif np.array_equal(image , X_rec_origin_test['neutralised_image'][cnt]):\n",
        "      confidences_neutralised.append(conf)\n",
        "    else:\n",
        "      pass #should never happen\n",
        "    \n",
        "    if pred == np.array(y_rec_origin_test)[cnt]:\n",
        "        correct += 1\n",
        "    else:\n",
        "        incorrect += 1\n",
        "\n",
        "    if cnt % 500 == 0:\n",
        "        print(\"[{}] {}% is done\".format(strftime(\"%Y-%m-%d %H:%M:%S\", gmtime()), str(cnt/len(X_rec_origin_test) * 100)))\n",
        "print('Emotion Acc: ', (100*correct)/(correct + incorrect))\n",
        "\n",
        "plt.hist(normalise_conf(confidences_original), density=False, alpha=0.5, bins=range(0,100,5), label='original')\n",
        "plt.hist(normalise_conf(confidences_neutralised), density=False, alpha=0.5, bins=range(0,100,5), label='neutralised')\n",
        "plt.ylabel('Density')\n",
        "plt.xlabel('Confidence')\n",
        "\n",
        "plt.title('Eigen Face recognition, accuracy: {},\\n \\\n",
        "    Original: Std= {}, Mean= {}\\n \\\n",
        "    Neutralised: Std= {}, Mean= {}'.format( \n",
        "    np.around( (100*correct)/(correct + incorrect), 4),\n",
        "    np.around( np.std(normalise_conf(confidences_original)),4),\n",
        "    np.around( np.mean(normalise_conf(confidences_original)),4),\n",
        "    np.around( np.std(normalise_conf(confidences_neutralised)),4),\n",
        "    np.around( np.mean(normalise_conf(confidences_neutralised)),4)))\n",
        "\n",
        "plt.savefig('gdrive/My Drive/ACVPR/EigenFacerecognition.png')\n",
        "plt.legend()"
      ],
      "execution_count": 0,
      "outputs": [
        {
          "output_type": "stream",
          "text": [
            "[2019-12-15 19:29:37] 0.0% is done\n",
            "[2019-12-15 19:30:13] 75.75757575757575% is done\n",
            "Emotion Acc:  99.84848484848484\n"
          ],
          "name": "stdout"
        },
        {
          "output_type": "execute_result",
          "data": {
            "text/plain": [
              "<matplotlib.legend.Legend at 0x7fb704595898>"
            ]
          },
          "metadata": {
            "tags": []
          },
          "execution_count": 74
        },
        {
          "output_type": "display_data",
          "data": {
            "image/png": "[encoded data removed]",
            "text/plain": [
              "<Figure size 432x288 with 1 Axes>"
            ]
          },
          "metadata": {
            "tags": []
          }
        }
      ]
    },
    {
      "cell_type": "code",
      "metadata": {
        "id": "-5aCu_sLffxD",
        "colab_type": "code",
        "outputId": "1deb561b-71be-43fa-8e3a-36c7a01719fb",
        "colab": {}
      },
      "source": [
        "print(eigenface.predict(X_rec_origin_test['original_image'][10]), y_rec_origin_test[10], \n",
        "      eigenface.predict(X_rec_origin_test['neutralised_image'][10]), y_rec_origin_test[10])"
      ],
      "execution_count": 0,
      "outputs": [
        {
          "output_type": "stream",
          "text": [
            "(90, 12562.90669242794) 55 (55, 1924.4147285173933) 55\n"
          ],
          "name": "stdout"
        }
      ]
    },
    {
      "cell_type": "markdown",
      "metadata": {
        "id": "7oan5oEkffxG",
        "colab_type": "text"
      },
      "source": [
        "# LBHP "
      ]
    },
    {
      "cell_type": "code",
      "metadata": {
        "id": "_uwJIVxGffxH",
        "colab_type": "code",
        "colab": {}
      },
      "source": [
        "lbph_face = cv2.face.LBPHFaceRecognizer_create()\n",
        "lbph_face.train(X_rec_origin_train['original_image'], y_rec_origin_train.to_numpy(dtype=np.int32))"
      ],
      "execution_count": 0,
      "outputs": []
    },
    {
      "cell_type": "code",
      "metadata": {
        "id": "V9lGCjZEuFxl",
        "colab_type": "code",
        "colab": {
          "base_uri": "https://localhost:8080/",
          "height": 412
        },
        "outputId": "f5da9213-fbd1-4be4-d5b5-278bfc8b73a8"
      },
      "source": [
        "correct = 0\n",
        "incorrect = 0\n",
        "confidences_original = []\n",
        "confidences_neutralised = []\n",
        "for cnt, image in enumerate(X_rec_origin_test['original_image']):\n",
        "    pred, conf = lbph_face.predict(image)\n",
        "    \n",
        "    confidences_original.append(conf)\n",
        "    \n",
        "    if pred == np.array(y_rec_origin_test)[cnt]:\n",
        "        correct += 1\n",
        "    else:\n",
        "        incorrect += 1\n",
        "\n",
        "    if cnt % 500 == 0:\n",
        "        print(\"[{}] {}% is done\".format(strftime(\"%Y-%m-%d %H:%M:%S\", gmtime()), str(cnt/len(X_rec_origin_test) * 100)))\n",
        "print('Emotion Acc: ', (100*correct)/(correct + incorrect))\n",
        "\n",
        "plt.hist(normalise_conf(confidences_original), density=False, alpha=0.5, bins=range(0,100,5), label='original')\n",
        "\n",
        "plt.ylabel('Density')\n",
        "plt.xlabel('Confidence')\n",
        "\n",
        "plt.title('LBHP Face recognition original faces only, accuracy: {},\\n \\\n",
        "    Original: Std= {}, Mean= {}'.format( \n",
        "    np.around( (100*correct)/(correct + incorrect), 4),\n",
        "    np.around( np.std(normalise_conf(confidences_original)),4),\n",
        "    np.around( np.mean(normalise_conf(confidences_original)),4)))\n",
        "\n",
        "plt.savefig('gdrive/My Drive/ACVPR/LBHPFacerecognition_original_only.png')\n",
        "plt.legend()"
      ],
      "execution_count": 29,
      "outputs": [
        {
          "output_type": "stream",
          "text": [
            "[2019-12-18 21:10:37] 0.0% is done\n",
            "[2019-12-18 21:12:56] 25.773195876288657% is done\n",
            "[2019-12-18 21:15:14] 51.546391752577314% is done\n",
            "[2019-12-18 21:17:32] 77.31958762886599% is done\n",
            "Emotion Acc:  100.0\n"
          ],
          "name": "stdout"
        },
        {
          "output_type": "execute_result",
          "data": {
            "text/plain": [
              "<matplotlib.legend.Legend at 0x7f1dbb462198>"
            ]
          },
          "metadata": {
            "tags": []
          },
          "execution_count": 29
        },
        {
          "output_type": "display_data",
          "data": {
            "image/png": "[encoded data removed]",
            "text/plain": [
              "<Figure size 432x288 with 1 Axes>"
            ]
          },
          "metadata": {
            "tags": []
          }
        }
      ]
    },
    {
      "cell_type": "code",
      "metadata": {
        "id": "ZxCps25OffxI",
        "colab_type": "code",
        "outputId": "d8b700ac-4b3a-422b-d0df-5ab2e16982fd",
        "colab": {
          "base_uri": "https://localhost:8080/",
          "height": 393
        }
      },
      "source": [
        "correct = 0\n",
        "incorrect = 0\n",
        "confidences_original = []\n",
        "confidences_neutralised = []\n",
        "for cnt, image in enumerate(X_rec_origin_test['all_images']):\n",
        "    pred, conf = lbph_face.predict(image)\n",
        "    \n",
        "    if np.array_equal(image , X_rec_origin_test['original_image'][cnt]):\n",
        "      confidences_original.append(conf)\n",
        "    elif np.array_equal(image , X_rec_origin_test['neutralised_image'][cnt]):\n",
        "      confidences_neutralised.append(conf)\n",
        "    else:\n",
        "      pass #should never happen\n",
        "    \n",
        "    if pred == np.array(y_rec_origin_test)[cnt]:\n",
        "        correct += 1\n",
        "    else:\n",
        "        incorrect += 1\n",
        "\n",
        "    if cnt % 500 == 0:\n",
        "        print(\"[{}] {}% is done\".format(strftime(\"%Y-%m-%d %H:%M:%S\", gmtime()), str(cnt/len(X_rec_origin_test) * 100)))\n",
        "print('Emotion Acc: ', (100*correct)/(correct + incorrect))\n",
        "\n",
        "plt.hist(normalise_conf(confidences_original), density=False, alpha=0.5, bins=range(0,100,5), label='original')\n",
        "plt.hist(normalise_conf(confidences_neutralised), density=False, alpha=0.5, bins=range(0,100,5), label='neutralised')\n",
        "plt.ylabel('Density')\n",
        "plt.xlabel('Confidence')\n",
        "\n",
        "plt.title('LBHP Face recognition, accuracy: {},\\n \\\n",
        "    Original: Std= {}, Mean= {}\\n \\\n",
        "    Neutralised: Std= {}, Mean= {}'.format( \n",
        "    np.around( (100*correct)/(correct + incorrect), 4),\n",
        "    np.around( np.std(normalise_conf(confidences_original)),4),\n",
        "    np.around( np.mean(normalise_conf(confidences_original)),4),\n",
        "    np.around( np.std(normalise_conf(confidences_neutralised)),4),\n",
        "    np.around( np.mean(normalise_conf(confidences_neutralised)),4)))\n",
        "\n",
        "plt.savefig('gdrive/My Drive/ACVPR/LBHPFacerecognition.png')\n",
        "plt.legend()"
      ],
      "execution_count": 0,
      "outputs": [
        {
          "output_type": "stream",
          "text": [
            "[2019-12-15 19:30:29] 0.0% is done\n",
            "[2019-12-15 19:31:19] 75.75757575757575% is done\n",
            "Emotion Acc:  100.0\n"
          ],
          "name": "stdout"
        },
        {
          "output_type": "execute_result",
          "data": {
            "text/plain": [
              "<matplotlib.legend.Legend at 0x7fb702c1ceb8>"
            ]
          },
          "metadata": {
            "tags": []
          },
          "execution_count": 76
        },
        {
          "output_type": "display_data",
          "data": {
            "image/png": "[encoded data removed]",
            "text/plain": [
              "<Figure size 432x288 with 1 Axes>"
            ]
          },
          "metadata": {
            "tags": []
          }
        }
      ]
    },
    {
      "cell_type": "code",
      "metadata": {
        "id": "s1yJzrCSffxK",
        "colab_type": "code",
        "outputId": "b2874593-1faf-4245-d3db-89f61466507b",
        "colab": {}
      },
      "source": [
        "print(lbph_face.predict(X_rec_origin_test['original_image'][10]), y_rec_origin_test[10], \n",
        "      lbph_face.predict(X_rec_origin_test['neutralised_image'][10]), y_rec_origin_test[10])"
      ],
      "execution_count": 0,
      "outputs": [
        {
          "output_type": "stream",
          "text": [
            "(73, 4.596833089278591) 73 (73, 4.734876506819591) 73\n"
          ],
          "name": "stdout"
        }
      ]
    },
    {
      "cell_type": "code",
      "metadata": {
        "id": "iAyBFJPqffxM",
        "colab_type": "code",
        "outputId": "ea493aa0-d6b3-43a5-dd99-777f36fe800f",
        "colab": {}
      },
      "source": [
        "im_indx = 355\n",
        "pairPlot(images_df.iloc[im_indx]['neutralised_image'],images_df.iloc[im_indx]['original_image'])"
      ],
      "execution_count": 0,
      "outputs": [
        {
          "output_type": "display_data",
          "data": {
            "text/plain": [
              "<Figure size 432x288 with 0 Axes>"
            ]
          },
          "metadata": {
            "tags": []
          }
        },
        {
          "output_type": "display_data",
          "data": {
            "image/png": "[encoded data removed]",
            "text/plain": [
              "<Figure size 432x288 with 2 Axes>"
            ]
          },
          "metadata": {
            "tags": [],
            "needs_background": "light"
          }
        }
      ]
    },
    {
      "cell_type": "code",
      "metadata": {
        "id": "4QOKSK5GffxP",
        "colab_type": "code",
        "outputId": "fbc7cab0-b8b4-47bc-fc26-91bfe955364f",
        "colab": {}
      },
      "source": [
        "print(lbph_face.predict(X_rec_origin_test['original_image'][im_indx]), y_rec_origin_test[im_indx], \n",
        "      lbph_face.predict(X_rec_origin_test['neutralised_image'][im_indx]), y_rec_origin_test[im_indx])"
      ],
      "execution_count": 0,
      "outputs": [
        {
          "output_type": "stream",
          "text": [
            "(75, 4.857063873657447) 75 (75, 14.4775203870867) 75\n"
          ],
          "name": "stdout"
        }
      ]
    },
    {
      "cell_type": "code",
      "metadata": {
        "id": "powfd3pAffxR",
        "colab_type": "code",
        "colab": {}
      },
      "source": [
        ""
      ],
      "execution_count": 0,
      "outputs": []
    }
  ]
}