{
 "cells": [
  {
   "cell_type": "code",
   "execution_count": 8,
   "metadata": {},
   "outputs": [],
   "source": [
    "import numpy as np\n",
    "import pandas as pd\n",
    "\n",
    "import matplotlib.pyplot as plt\n",
    "import matplotlib.image as mpimg\n",
    "\n",
    "import cv2\n",
    "\n",
    "import glob\n",
    "\n",
    "from sklearn.model_selection import train_test_split\n",
    "from sklearn.metrics import accuracy_score, classification_report, confusion_matrix\n",
    "\n",
    "from PIL import Image"
   ]
  },
  {
   "cell_type": "code",
   "execution_count": 9,
   "metadata": {},
   "outputs": [],
   "source": [
    "base_path = \"../Data/CK_CK+/CK+/\""
   ]
  },
  {
   "cell_type": "code",
   "execution_count": 12,
   "metadata": {},
   "outputs": [],
   "source": [
    "data_path = base_path + 'cohn-kanade-images'\n",
    "emotion_path = base_path + 'Emotion'\n",
    "facs_path = base_path + 'FACS'\n",
    "landmarks_path = base_path + 'Landmarks'\n",
    "neutralised_path = \"NeutralisedImages/CK_CK+/CK+/\" + 'cohn-kanade-images'\n",
    "\n",
    "all_image_files = glob.glob(data_path+'/**/*.png', recursive=True)\n",
    "all_emotion_files = glob.glob(emotion_path+'/**/*.txt', recursive=True)\n",
    "all_facs_files = glob.glob(facs_path+'/**/*.txt', recursive=True)\n",
    "all_landmarks_files = glob.glob(landmarks_path+'/**/*.txt', recursive=True)"
   ]
  },
  {
   "cell_type": "code",
   "execution_count": 13,
   "metadata": {},
   "outputs": [],
   "source": [
    "all_emotions = {0: 'neutral', 1: 'anger', 2: 'contempt', 3: 'disgust', \n",
    "                4: 'fear', 5: 'happy', 6: 'sadness', 7: 'surprise'}"
   ]
  },
  {
   "cell_type": "code",
   "execution_count": null,
   "metadata": {},
   "outputs": [],
   "source": [
    "image_dict = {}\n",
    "\n",
    "for i_im in all_image_files:\n",
    "    im_dict = {}\n",
    "    im_folder = i_im.rsplit('/', 1)[0]\n",
    "    if im_folder not in image_dict.keys():\n",
    "        im_files = glob.glob(im_folder+'/*.png')\n",
    "        im_dict['emotion'] = im_files[-1]\n",
    "        im_dict['neutral'] = im_files[0]\n",
    "\n",
    "        im_folder_base = \"/\".join(im_files[-1].rsplit('/',3)[-3:]).rsplit('/',1)[0]\n",
    "        facs_folder = facs_path + '/' + im_folder_base\n",
    "        emotion_folder = emotion_path + '/' + im_folder_base\n",
    "        landmarks_folder = landmarks_path + '/' + im_folder_base\n",
    "        \n",
    "        facs_file = glob.glob(facs_folder+'/*.txt')[0]\n",
    "        emotion_file = glob.glob(emotion_folder+'/*.txt')\n",
    "        neutral_landmarks_file = glob.glob(landmarks_folder+'/*.txt')[0]\n",
    "        emotion_landmarks_file = glob.glob(landmarks_folder+'/*.txt')[-1]\n",
    "\n",
    "        with open(facs_file) as f:\n",
    "            data = f.read()\n",
    "            im_dict['facs'] = np.array([list(map(float, i.split())) for i in data.strip().split('\\n')])\n",
    "\n",
    "        if len(emotion_file) > 0:\n",
    "            emotion_file = emotion_file[0]\n",
    "            with open(emotion_file) as f:\n",
    "                data = f.read()\n",
    "                im_dict['label'] = int(float(data))\n",
    "                im_dict['label_str'] = all_emotions[im_dict['label']]\n",
    "\n",
    "        with open(neutral_landmarks_file) as f:\n",
    "            data = f.read()\n",
    "            im_dict['neutral_landmarks'] = np.array([list(map(float, \n",
    "                                                     i.split())) for i in data.strip().split('\\n')])\n",
    "\n",
    "        with open(emotion_landmarks_file) as f:\n",
    "            data = f.read()\n",
    "            im_dict['emotion_landmarks'] = np.array([list(map(float, \n",
    "                                                     i.split())) for i in data.strip().split('\\n')])\n",
    "\n",
    "    #     print(im_dict)\n",
    "        image_dict[im_folder] = (im_dict)"
   ]
  },
  {
   "cell_type": "code",
   "execution_count": null,
   "metadata": {},
   "outputs": [],
   "source": [
    "df_train = df_images[~df_images['label'].isna()][['im_neutral_crop', 'im_emotion_crop', \n",
    "                                                  'neutral_crop_landmarks', 'emotion_crop_landmarks']]\n",
    "label_string = df_train.index\n",
    "label_string = label_string.str.split('/')\n",
    "df_train['label'] = [int(i[-2][1:]) for i in label_string]\n",
    "df_train.reset_index(drop=True, inplace=True)\n",
    "df_train['im_emotionless'] = df_train.apply(lambda row: apply_TPS(row, tps), axis=1)"
   ]
  },
  {
   "cell_type": "code",
   "execution_count": null,
   "metadata": {},
   "outputs": [],
   "source": [
    "X, y = df_train[['im_neutral_crop', 'im_emotion_crop', 'im_emotionless']], df_train['label']\n",
    "\n",
    "X_train, X_test, y_train, y_test = train_test_split(X, y, test_size=0.33, random_state=42)\n",
    "X_train.reset_index(drop=True, inplace=True), X_test.reset_index(drop=True, inplace=True)\n",
    "y_train.reset_index(drop=True, inplace=True), y_test.reset_index(drop=True, inplace=True)\n",
    "X_train.shape, X_test.shape, y_train.shape, y_test.shape"
   ]
  },
  {
   "cell_type": "markdown",
   "metadata": {},
   "source": [
    "# Fisher Face"
   ]
  },
  {
   "cell_type": "code",
   "execution_count": null,
   "metadata": {},
   "outputs": [],
   "source": [
    "fishface = cv2.face.FisherFaceRecognizer_create() #Initialize fisher face classifier\n",
    "fishface.train(X_train['im_neutral_crop'], np.array(y_train))\n",
    "correct = 0\n",
    "incorrect = 0\n",
    "for cnt, image in enumerate(X_test['im_emotion_crop']):\n",
    "    pred, conf = fishface.predict(image)\n",
    "    if pred == np.array(y_test)[cnt]:\n",
    "        correct += 1\n",
    "    else:\n",
    "        incorrect += 1\n",
    "print('Emotion Acc: ', (100*correct)/(correct + incorrect))\n",
    "\n",
    "correct = 0\n",
    "incorrect = 0\n",
    "for cnt, image in enumerate(X_test['im_emotionless']):\n",
    "    pred, conf = fishface.predict(image)\n",
    "    if pred == np.array(y_test)[cnt]:\n",
    "        correct += 1\n",
    "    else:\n",
    "        incorrect += 1\n",
    "print('Emotionless Acc: ', (100*correct)/(correct + incorrect))"
   ]
  },
  {
   "cell_type": "code",
   "execution_count": null,
   "metadata": {},
   "outputs": [],
   "source": [
    "print(fishface.predict(X_test['im_emotion_crop'][10]), y_test[10], \n",
    "      fishface.predict(X_test['im_emotionless'][10]), y_test[10])"
   ]
  },
  {
   "cell_type": "markdown",
   "metadata": {},
   "source": [
    "# Eigen Face"
   ]
  },
  {
   "cell_type": "code",
   "execution_count": null,
   "metadata": {},
   "outputs": [],
   "source": [
    "eigenface = cv2.face.EigenFaceRecognizer_create()\n",
    "eigenface.train(X_train['im_neutral_crop'], np.array(y_train))\n",
    "correct = 0\n",
    "incorrect = 0\n",
    "for cnt, image in enumerate(X_test['im_emotion_crop']):\n",
    "    pred, conf = eigenface.predict(image)\n",
    "    if pred == np.array(y_test)[cnt]:\n",
    "        correct += 1\n",
    "    else:\n",
    "        incorrect += 1\n",
    "print('Emotion Acc: ', (100*correct)/(correct + incorrect))\n",
    "\n",
    "correct = 0\n",
    "incorrect = 0\n",
    "for cnt, image in enumerate(X_test['im_emotionless']):\n",
    "    pred, conf = eigenface.predict(image)\n",
    "    if pred == np.array(y_test)[cnt]:\n",
    "        correct += 1\n",
    "    else:\n",
    "        incorrect += 1\n",
    "print('Emotionless Acc: ', (100*correct)/(correct + incorrect))"
   ]
  },
  {
   "cell_type": "code",
   "execution_count": null,
   "metadata": {},
   "outputs": [],
   "source": [
    "print(eigenface.predict(X_test['im_emotion_crop'][10]), y_test[10], \n",
    "      eigenface.predict(X_test['im_emotionless'][10]), y_test[10])"
   ]
  },
  {
   "cell_type": "markdown",
   "metadata": {},
   "source": [
    "# LBHP "
   ]
  },
  {
   "cell_type": "code",
   "execution_count": null,
   "metadata": {},
   "outputs": [],
   "source": [
    "lbph_face = cv2.face.LBPHFaceRecognizer_create()\n",
    "lbph_face.train(X_train['im_neutral_crop'], np.array(y_train))\n",
    "correct = 0\n",
    "incorrect = 0\n",
    "for cnt, image in enumerate(X_test['im_emotion_crop']):\n",
    "    pred, conf = lbph_face.predict(image)\n",
    "    if pred == np.array(y_test)[cnt]:\n",
    "        correct += 1\n",
    "    else:\n",
    "        incorrect += 1\n",
    "print('Emotion Acc: ', (100*correct)/(correct + incorrect))\n",
    "\n",
    "correct = 0\n",
    "incorrect = 0\n",
    "for cnt, image in enumerate(X_test['im_emotionless']):\n",
    "    pred, conf = lbph_face.predict(image)\n",
    "    if pred == np.array(y_test)[cnt]:\n",
    "        correct += 1\n",
    "    else:\n",
    "        incorrect += 1\n",
    "print('Emotionless Acc: ', (100*correct)/(correct + incorrect))"
   ]
  },
  {
   "cell_type": "code",
   "execution_count": null,
   "metadata": {},
   "outputs": [],
   "source": [
    "print(lbph_face.predict(X_test['im_emotion_crop'][10]), y_test[10], \n",
    "      lbph_face.predict(X_test['im_emotionless'][10]), y_test[10])"
   ]
  }
 ],
 "metadata": {
  "kernelspec": {
   "display_name": "Python 3",
   "language": "python",
   "name": "python3"
  },
  "language_info": {
   "codemirror_mode": {
    "name": "ipython",
    "version": 3
   },
   "file_extension": ".py",
   "mimetype": "text/x-python",
   "name": "python",
   "nbconvert_exporter": "python",
   "pygments_lexer": "ipython3",
   "version": "3.7.4"
  }
 },
 "nbformat": 4,
 "nbformat_minor": 4
}
