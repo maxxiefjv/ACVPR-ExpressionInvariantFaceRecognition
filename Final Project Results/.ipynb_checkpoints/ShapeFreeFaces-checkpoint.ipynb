{
 "cells": [
  {
   "cell_type": "code",
   "execution_count": 490,
   "metadata": {},
   "outputs": [],
   "source": [
    "%matplotlib inline\n",
    "\n",
    "import numpy as np\n",
    "import pandas as pd\n",
    "import matplotlib.pyplot as plt\n",
    "import matplotlib.image as mpimg\n",
    "\n",
    "import menpo.io as mio\n",
    "from menpo.shape import PointCloud\n",
    "import menpo.transform\n",
    "\n",
    "from tqdm import tqdm\n",
    "import glob\n",
    "from PIL import Image"
   ]
  },
  {
   "cell_type": "code",
   "execution_count": 191,
   "metadata": {},
   "outputs": [],
   "source": [
    "base_path = \"../Data/\""
   ]
  },
  {
   "cell_type": "code",
   "execution_count": 192,
   "metadata": {},
   "outputs": [],
   "source": [
    "ck_data_path = base_path + 'CK_CK+/CK+/cohn-kanade-images'\n",
    "ck_landmarks_path = base_path + 'CK_CK+/CK+/Landmarks'"
   ]
  },
  {
   "cell_type": "code",
   "execution_count": 527,
   "metadata": {},
   "outputs": [],
   "source": [
    "def __getLandmarksForImage(imagePath):\n",
    "    cur_landmark = \"/\".join(str(imagePath).rsplit('/',3)[-3:])[:-4]\n",
    "    landmark_path = ck_landmarks_path + '/' + cur_landmark + '_landmarks.txt'\n",
    "    \n",
    "#     cur_image = mio.import_image(imagePath)\n",
    "    \n",
    "#     theta = np.deg2rad(-90)\n",
    "    landmarks = PointCloud(np.loadtxt(landmark_path))\n",
    "    \n",
    "#     t1 = menpo.transform.Rotation(np.array([\n",
    "#         [np.cos(theta), -np.sin(theta)],\n",
    "#         [np.sin(theta), np.cos(theta)]\n",
    "#     ]))\n",
    "    \n",
    "#     landmark_bounds = landmarks.bounds();\n",
    "#     t2 = menpo.transform.Translation(-landmark_bounds[1]) #- [250, -300]\n",
    "#     t3 = menpo.transform.Translation(landmark_bounds[1]) #- [250, -300]\n",
    "#     t = menpo.transform.TransformChain([t2,t1, t3])\n",
    "#     print(t)\n",
    "#     landmarks = t.apply(landmarks)\n",
    "\n",
    "    return {'face' : landmarks}\n",
    "\n",
    "\n",
    "def __view_landmarks(menpoImage):\n",
    "    landmarks = [(part[0],part[1]) for part in (zip(*menpoImage.landmarks.get('face').h_points()))] \n",
    "    xs, ys = list(zip(*landmarks))\n",
    "    plt.scatter(xs, ys, color='r')"
   ]
  },
  {
   "cell_type": "code",
   "execution_count": 531,
   "metadata": {},
   "outputs": [
    {
     "name": "stderr",
     "output_type": "stream",
     "text": [
      "Processing entries: 100%|██████████| 10708/10708 [03:04<00:00, 58.04it/s]\n"
     ]
    }
   ],
   "source": [
    "images = []\n",
    "\n",
    "with tqdm(total=len(ck_image_files), desc=\"Processing entries\") as pbar:\n",
    "    for i, ck_image in enumerate(ck_image_files):\n",
    "\n",
    "        image = mio.import_image(ck_image, landmark_resolver=__getLandmarksForImage)\n",
    "        images.append(image)\n",
    "        \n",
    "        pbar.update(1)"
   ]
  },
  {
   "cell_type": "markdown",
   "metadata": {},
   "source": [
    "# Compute average landmark position"
   ]
  },
  {
   "cell_type": "code",
   "execution_count": 566,
   "metadata": {},
   "outputs": [],
   "source": [
    "def __getLandmarks(im):\n",
    "    return im.landmarks.get('face').h_points()[:2,:]"
   ]
  },
  {
   "cell_type": "code",
   "execution_count": 567,
   "metadata": {},
   "outputs": [],
   "source": [
    "numImages = len(images)\n",
    "\n",
    "avgLandmarks = (__getLandmarks(images[0]) / numImages)\n",
    "\n",
    "for image in images:\n",
    "    avgLandmarks += __getLandmarks(image) / numImages"
   ]
  },
  {
   "cell_type": "markdown",
   "metadata": {},
   "source": [
    "## Transform images to shape free variant"
   ]
  },
  {
   "cell_type": "code",
   "execution_count": 570,
   "metadata": {},
   "outputs": [],
   "source": [
    "from skimage import transform as tf"
   ]
  },
  {
   "cell_type": "code",
   "execution_count": 619,
   "metadata": {},
   "outputs": [],
   "source": [
    "def __appendLastRowAsCol(npMatrix):\n",
    "    print(npMatrix[:-1,:].shape, np.array([npMatrix[-1,:]]).shape)\n",
    "    return np.c_[npMatrix[:-1,:].T, np.array([npMatrix[-1,:]]).T ]"
   ]
  },
  {
   "cell_type": "code",
   "execution_count": 636,
   "metadata": {},
   "outputs": [
    {
     "name": "stdout",
     "output_type": "stream",
     "text": [
      "(1, 68) (1, 68)\n",
      "(1, 68) (1, 68)\n"
     ]
    },
    {
     "ename": "TypeError",
     "evalue": "int() argument must be a string, a bytes-like object or a number, not 'Image'",
     "output_type": "error",
     "traceback": [
      "\u001b[0;31m---------------------------------------------------------------------------\u001b[0m",
      "\u001b[0;31mTypeError\u001b[0m                                 Traceback (most recent call last)",
      "\u001b[0;32m<ipython-input-636-25547d32c114>\u001b[0m in \u001b[0;36m<module>\u001b[0;34m\u001b[0m\n\u001b[1;32m      8\u001b[0m     \u001b[0mmenpo_tform\u001b[0m \u001b[0;34m=\u001b[0m \u001b[0mmenpo\u001b[0m\u001b[0;34m.\u001b[0m\u001b[0mtransform\u001b[0m\u001b[0;34m.\u001b[0m\u001b[0mAffine\u001b[0m\u001b[0;34m(\u001b[0m\u001b[0mtform\u001b[0m\u001b[0;34m.\u001b[0m\u001b[0mparams\u001b[0m\u001b[0;34m)\u001b[0m\u001b[0;34m\u001b[0m\u001b[0;34m\u001b[0m\u001b[0m\n\u001b[1;32m      9\u001b[0m     \u001b[0mblank_image\u001b[0m \u001b[0;34m=\u001b[0m \u001b[0mmenpo\u001b[0m\u001b[0;34m.\u001b[0m\u001b[0mimage\u001b[0m\u001b[0;34m.\u001b[0m\u001b[0mImage\u001b[0m\u001b[0;34m.\u001b[0m\u001b[0minit_blank\u001b[0m\u001b[0;34m(\u001b[0m\u001b[0mimage\u001b[0m\u001b[0;34m.\u001b[0m\u001b[0mshape\u001b[0m\u001b[0;34m)\u001b[0m\u001b[0;34m\u001b[0m\u001b[0;34m\u001b[0m\u001b[0m\n\u001b[0;32m---> 10\u001b[0;31m     \u001b[0mtransformed_image\u001b[0m \u001b[0;34m=\u001b[0m \u001b[0mimage\u001b[0m\u001b[0;34m.\u001b[0m\u001b[0mwarp_to_shape\u001b[0m\u001b[0;34m(\u001b[0m\u001b[0mblank_image\u001b[0m\u001b[0;34m,\u001b[0m \u001b[0mmenpo_tform\u001b[0m\u001b[0;34m)\u001b[0m\u001b[0;34m\u001b[0m\u001b[0;34m\u001b[0m\u001b[0m\n\u001b[0m\u001b[1;32m     11\u001b[0m     \u001b[0;32mbreak\u001b[0m\u001b[0;34m\u001b[0m\u001b[0;34m\u001b[0m\u001b[0m\n",
      "\u001b[0;32m~/miniconda3/envs/UTwente/lib/python3.7/site-packages/menpo/image/base.py\u001b[0m in \u001b[0;36mwarp_to_shape\u001b[0;34m(self, template_shape, transform, warp_landmarks, order, mode, cval, batch_size, return_transform)\u001b[0m\n\u001b[1;32m   1813\u001b[0m             \u001b[0;31m`\u001b[0m\u001b[0mreturn_transform\u001b[0m\u001b[0;31m`\u001b[0m \u001b[0;32mis\u001b[0m\u001b[0;31m \u001b[0m\u001b[0;31m`\u001b[0m\u001b[0;31m`\u001b[0m\u001b[0;32mTrue\u001b[0m\u001b[0;31m`\u001b[0m\u001b[0;31m`\u001b[0m\u001b[0;34m.\u001b[0m\u001b[0;34m\u001b[0m\u001b[0;34m\u001b[0m\u001b[0m\n\u001b[1;32m   1814\u001b[0m         \"\"\"\n\u001b[0;32m-> 1815\u001b[0;31m         \u001b[0mtemplate_shape\u001b[0m \u001b[0;34m=\u001b[0m \u001b[0mnp\u001b[0m\u001b[0;34m.\u001b[0m\u001b[0marray\u001b[0m\u001b[0;34m(\u001b[0m\u001b[0mtemplate_shape\u001b[0m\u001b[0;34m,\u001b[0m \u001b[0mdtype\u001b[0m\u001b[0;34m=\u001b[0m\u001b[0mnp\u001b[0m\u001b[0;34m.\u001b[0m\u001b[0mint\u001b[0m\u001b[0;34m)\u001b[0m\u001b[0;34m\u001b[0m\u001b[0;34m\u001b[0m\u001b[0m\n\u001b[0m\u001b[1;32m   1816\u001b[0m         if (isinstance(transform, Affine) and order in range(4) and\n\u001b[1;32m   1817\u001b[0m                 self.n_dims == 2 and cython_interpolation is not None):\n",
      "\u001b[0;31mTypeError\u001b[0m: int() argument must be a string, a bytes-like object or a number, not 'Image'"
     ]
    }
   ],
   "source": [
    "dest = __appendLastRowAsCol(avgLandmarks)\n",
    "\n",
    "for image in images[:5]:\n",
    "    src = __appendLastRowAsCol(__getLandmarks(image))\n",
    "    tform = tf.estimate_transform('affine',src, dest)\n",
    "\n",
    "\n",
    "    menpo_tform = menpo.transform.Affine(tform.params)\n",
    "#     blank_image = menpo.image.Image.init_blank()\n",
    "    transformed_image = image.warp_to_shape(image.shape, menpo_tform)\n",
    "    break"
   ]
  },
  {
   "cell_type": "code",
   "execution_count": 630,
   "metadata": {},
   "outputs": [],
   "source": [
    "# __appendLastRowAsCol(dest)"
   ]
  },
  {
   "cell_type": "code",
   "execution_count": null,
   "metadata": {},
   "outputs": [],
   "source": []
  },
  {
   "cell_type": "code",
   "execution_count": null,
   "metadata": {},
   "outputs": [],
   "source": []
  }
 ],
 "metadata": {
  "kernelspec": {
   "display_name": "Python 3",
   "language": "python",
   "name": "python3"
  },
  "language_info": {
   "codemirror_mode": {
    "name": "ipython",
    "version": 3
   },
   "file_extension": ".py",
   "mimetype": "text/x-python",
   "name": "python",
   "nbconvert_exporter": "python",
   "pygments_lexer": "ipython3",
   "version": "3.7.4"
  }
 },
 "nbformat": 4,
 "nbformat_minor": 4
}
