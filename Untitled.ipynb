{
 "cells": [
  {
   "cell_type": "code",
   "execution_count": 2,
   "metadata": {},
   "outputs": [],
   "source": [
    "%matplotlib inline\n",
    "\n",
    "import numpy as np\n",
    "import pandas as pd\n",
    "import matplotlib.pyplot as plt\n",
    "import matplotlib.image as mpimg\n",
    "import os\n",
    "import glob\n",
    "from PIL import Image"
   ]
  },
  {
   "cell_type": "code",
   "execution_count": 3,
   "metadata": {},
   "outputs": [],
   "source": [
    "base_path = \"Data/\""
   ]
  },
  {
   "cell_type": "code",
   "execution_count": 4,
   "metadata": {},
   "outputs": [],
   "source": [
    "jaffe_data_path = base_path + 'JAFFE'\n",
    "jaffe_images = glob.glob(jaffe_data_path+'/**/*.tiff', recursive=True)"
   ]
  },
  {
   "cell_type": "markdown",
   "metadata": {},
   "source": [
    "https://www.pyimagesearch.com/2017/04/03/facial-landmarks-dlib-opencv-python/"
   ]
  },
  {
   "cell_type": "code",
   "execution_count": 5,
   "metadata": {},
   "outputs": [],
   "source": [
    "def rect_to_bb(rect):\n",
    "    # take a bounding predicted by dlib and convert it\n",
    "    # to the format (x, y, w, h) as we would normally do\n",
    "    # with OpenCV\n",
    "    x = rect.left()\n",
    "    y = rect.top()\n",
    "    w = rect.right() - x\n",
    "    h = rect.bottom() - y\n",
    "\n",
    "    # return a tuple of (x, y, w, h)\n",
    "    return (x, y, w, h)"
   ]
  },
  {
   "cell_type": "code",
   "execution_count": 6,
   "metadata": {},
   "outputs": [],
   "source": [
    "def shape_to_np(shape, dtype=\"int\"):\n",
    "    # initialize the list of (x, y)-coordinates\n",
    "    coords = np.zeros((68, 2), dtype=dtype)\n",
    "\n",
    "    # loop over the 68 facial landmarks and convert them\n",
    "    # to a 2-tuple of (x, y)-coordinates\n",
    "    for i in range(0, 68):\n",
    "        coords[i] = (shape.part(i).x, shape.part(i).y)\n",
    "\n",
    "    # return the list of (x, y)-coordinates\n",
    "    return coords\n"
   ]
  },
  {
   "cell_type": "code",
   "execution_count": 339,
   "metadata": {},
   "outputs": [],
   "source": [
    "import copy\n",
    "\n",
    "def rescale_img(img, scale_factor=0.5):\n",
    "    width, height = img.shape\n",
    "    resized_height, resized_width = int(height*scale_factor), int(width*scale_factor)\n",
    "    return resized_width, resized_height, Image.fromarray(img).resize((resized_height,resized_width))\n",
    "\n",
    "def rescale_landmarks(landmarks, scale_factor=0.5):\n",
    "    return landmarks * scale_factor\n",
    "\n",
    "def rescale_img_landmarks(img, landmarks, scale_factor=0.5, size=None):\n",
    "\n",
    "    if size:\n",
    "        origin_width, origin_height = img.shape\n",
    "        new_width, new_height = size\n",
    "        \n",
    "        width_factor = new_width / origin_width\n",
    "        height_factor = new_height / origin_height\n",
    "        \n",
    "        new_landmarks = copy.deepcopy(landmarks)\n",
    "        new_landmarks[:,0] = (new_landmarks[:,0] * width_factor)\n",
    "        new_landmarks[:,1] = (new_landmarks[:,1] * height_factor)\n",
    "                \n",
    "        return (new_width, new_height, Image.fromarray(img).resize(size)), new_landmarks\n",
    "    \n",
    "    return rescale_img(img,scale_factor), rescale_landmarks(landmarks, scale_factor)\n",
    "\n",
    "# (new_width, new_height, rescaled_img), rescaled_landmarks = rescale_img_landmarks(ck_dataframe.iloc[img_idx]['Image'],ck_dataframe.iloc[img_idx]['Landmarks'],size=(128,128))\n",
    "\n",
    "# landmarks = [(part[0],part[1]) for part in rescaled_landmarks] \n",
    "# xs, ys = list(zip(*landmarks))\n",
    "# plt.scatter(xs, ys, color='r')\n",
    "# plt.imshow(rescaled_img)"
   ]
  },
  {
   "cell_type": "markdown",
   "metadata": {},
   "source": [
    "## Train shape predictor on CK+ dataset, next apply it on JAFFE dataset."
   ]
  },
  {
   "cell_type": "code",
   "execution_count": 340,
   "metadata": {},
   "outputs": [],
   "source": [
    "ck_data_path = base_path + 'CK:CK+/CK+/cohn-kanade-images'\n",
    "ck_landmarks_path = base_path + 'CK:CK+/CK+/Landmarks'\n",
    "\n",
    "ck_image_files = glob.glob(ck_data_path+'/**/*.png', recursive=True)\n",
    "ck_landmarks_files = glob.glob(ck_landmarks_path+'/**/*.txt', recursive=True)"
   ]
  },
  {
   "cell_type": "code",
   "execution_count": 341,
   "metadata": {},
   "outputs": [],
   "source": [
    "import dlib"
   ]
  },
  {
   "cell_type": "code",
   "execution_count": 349,
   "metadata": {},
   "outputs": [
    {
     "name": "stderr",
     "output_type": "stream",
     "text": [
      "Processing entries: 100%|██████████| 10708/10708 [01:07<00:00, 159.43it/s]\n"
     ]
    }
   ],
   "source": [
    "import time \n",
    "# import IntProgress\n",
    "from tqdm import tqdm\n",
    "\n",
    "images_and_landmarks = {}\n",
    "\n",
    "IMAGE_SIZE = (490,640)\n",
    "\n",
    "with tqdm(total=len(ck_image_files), desc=\"Processing entries\") as pbar:\n",
    "    for i, ck_image in enumerate(ck_image_files):\n",
    "        subject = \"_\".join(ck_image.rsplit('/',3)[1:3])\n",
    "\n",
    "        landmark_path = \"/\".join(ck_image.rsplit('/',3)[-3:])[:-4]\n",
    "        landmark_file = ck_landmarks_path + '/' + landmark_path + '_landmarks.txt'\n",
    "\n",
    "        landmarks = np.loadtxt(landmark_file)\n",
    "        image = np.array(Image.open(ck_image))\n",
    "\n",
    "        if image.shape != IMAGE_SIZE:\n",
    "            pbar.update(1)\n",
    "            continue\n",
    "\n",
    "        (new_width, new_height, rescaled_img), rescaled_landmarks = rescale_img_landmarks(image,landmarks,scale_factor=0.2)\n",
    "        \n",
    "        drect = dlib.rectangle(0,0, image.shape[1], image.shape[0])\n",
    "        dpoints = [dlib.point(landmark) for landmark in landmarks]\n",
    "\n",
    "        objects = dlib.full_object_detections()\n",
    "        objects.append(dlib.full_object_detection(drect, dpoints))\n",
    "\n",
    "        images_and_landmarks[subject] = {\n",
    "            \"Image\" : rescaled_img,\n",
    "            \"Landmarks\" : rescaled_landmarks,\n",
    "            \"o_detection\" : objects\n",
    "        }\n",
    "        \n",
    "        pbar.update(1)\n"
   ]
  },
  {
   "cell_type": "code",
   "execution_count": 350,
   "metadata": {},
   "outputs": [
    {
     "data": {
      "text/plain": [
       "1659"
      ]
     },
     "execution_count": 350,
     "metadata": {},
     "output_type": "execute_result"
    }
   ],
   "source": [
    "ck_dataframe = pd.DataFrame(images_and_landmarks).T\n",
    "ck_dataframe.size"
   ]
  },
  {
   "cell_type": "code",
   "execution_count": 93,
   "metadata": {},
   "outputs": [],
   "source": [
    "# ck_dataframe['Image'].values.tolist()"
   ]
  },
  {
   "cell_type": "code",
   "execution_count": 94,
   "metadata": {},
   "outputs": [],
   "source": [
    "options = dlib.shape_predictor_training_options()\n",
    "options.be_verbose = True\n",
    "\n",
    "predictor = dlib.train_shape_predictor(ck_dataframe['Image'].values.tolist(), ck_dataframe['o_detection'].values.tolist(), options)"
   ]
  },
  {
   "cell_type": "code",
   "execution_count": 95,
   "metadata": {},
   "outputs": [
    {
     "data": {
      "image/png": "[encoded data removed]",
      "text/plain": [
       "<Figure size 432x288 with 1 Axes>"
      ]
     },
     "metadata": {
      "needs_background": "light"
     },
     "output_type": "display_data"
    }
   ],
   "source": [
    "for image_path in ck_image_files[4:5]:\n",
    "    im = Image.open(image_path).resize((490,640))\n",
    "    imarray = np.array(im)\n",
    "    \n",
    "    detector = dlib.get_frontal_face_detector()\n",
    "    rect = detector(imarray,1)[0]\n",
    "\n",
    "    shape = predictor(imarray, rect)\n",
    "    landmarks = [(part.x,part.y) for part in shape.parts()] \n",
    "    xs, ys = (list(zip(*landmarks)))\n",
    "\n",
    "    plt.scatter(xs,ys, color='r')\n",
    "    \n",
    "    plt.imshow(imarray)\n",
    "    break\n",
    "    "
   ]
  },
  {
   "cell_type": "code",
   "execution_count": 347,
   "metadata": {},
   "outputs": [],
   "source": [
    "img_idx = 5"
   ]
  },
  {
   "cell_type": "code",
   "execution_count": 351,
   "metadata": {},
   "outputs": [
    {
     "data": {
      "text/plain": [
       "<matplotlib.image.AxesImage at 0x17d83aba8>"
      ]
     },
     "execution_count": 351,
     "metadata": {},
     "output_type": "execute_result"
    },
    {
     "data": {
      "image/png": "[encoded data removed]",
      "text/plain": [
       "<Figure size 432x288 with 1 Axes>"
      ]
     },
     "metadata": {
      "needs_background": "light"
     },
     "output_type": "display_data"
    }
   ],
   "source": [
    "landmarks = ck_dataframe.iloc[img_idx]['Landmarks']\n",
    "landmarks = [(part[0],part[1]) for part in landmarks] \n",
    "xs, ys = list(zip(*landmarks))\n",
    "plt.scatter(xs, ys, color='r')\n",
    "plt.imshow(ck_dataframe.iloc[img_idx]['Image'])"
   ]
  },
  {
   "cell_type": "code",
   "execution_count": 357,
   "metadata": {},
   "outputs": [],
   "source": [
    "# np.stack(labels).shape\n",
    "batch_size = 32"
   ]
  },
  {
   "cell_type": "code",
   "execution_count": 383,
   "metadata": {},
   "outputs": [],
   "source": [
    "from torch.utils.data import TensorDataset\n",
    "\n",
    "# Divide the hata into 60% train, 20% validation, and 20% test\n",
    "addrs = np.stack(ck_dataframe['Image'].values).reshape(-1,1,98,128)\n",
    "labels = np.stack(ck_dataframe['Landmarks'].values)#.reshape(-1,68,2,1)\n",
    "dataset = TensorDataset(addrs, labels, shuffle=True)\n",
    "# print(addrs.shape)\n",
    "\n",
    "# train_addrs = torch.Tensor(addrs[0:int(0.6*len(addrs))])\n",
    "# train_labels = torch.Tensor(labels[0:int(0.6*len(labels))])\n",
    "# dataset = TensorDataset(train_addrs, train_labels)\n",
    "\n",
    "# val_addrs = torch.Tensor(addrs[int(0.6*len(addrs)):int(0.8*len(addrs))])\n",
    "# val_labels = torch.Tensor(labels[int(0.6*len(addrs)):int(0.8*len(addrs))])\n",
    "# validation_set = TensorDataset(val_addrs, val_labels)\n",
    "\n",
    "# test_addrs = torch.Tensor(addrs[int(0.8*len(addrs)):])\n",
    "# test_labels = torch.Tensor(labels[int(0.8*len(labels)):])\n",
    "# test_set = TensorDataset(test_addrs, test_labels)\n",
    "\n",
    "# train_loader=torch.utils.data.DataLoader(dataset, batch_size=batch_size, shuffle=True, num_workers=8)\n",
    "# train_loader=torch.utils.data.DataLoader(validation_set, batch_size=batch_size, shuffle=True, num_workers=8)\n",
    "# train_loader=torch.utils.data.DataLoader(test_set, batch_size=batch_size, shuffle=True, num_workers=8)\n",
    "\n"
   ]
  },
  {
   "cell_type": "code",
   "execution_count": 533,
   "metadata": {},
   "outputs": [
    {
     "name": "stdout",
     "output_type": "stream",
     "text": [
      "\n"
     ]
    },
    {
     "data": {
      "image/png": "[encoded data removed]",
      "text/plain": [
       "<Figure size 432x288 with 1 Axes>"
      ]
     },
     "metadata": {
      "needs_background": "light"
     },
     "output_type": "display_data"
    }
   ],
   "source": [
    "dataiter = iter(train_loader)\n",
    "images,landmarks = dataiter.next()\n",
    "\n",
    "# # print(landmarks.numpy())\n",
    "landmarks = [(part[0],part[1]) for part in np.fliplr(landmarks[0].numpy())] \n",
    "xs, ys = list(zip(*landmarks))\n",
    "plt.scatter(xs, ys, color='r')\n",
    "print()\n",
    "# plt.imshow(images[0].view(98,128).numpy())"
   ]
  },
  {
   "cell_type": "code",
   "execution_count": 414,
   "metadata": {},
   "outputs": [
    {
     "data": {
      "text/plain": [
       "torch.Size([68, 2])"
      ]
     },
     "execution_count": 414,
     "metadata": {},
     "output_type": "execute_result"
    }
   ],
   "source": [
    "labels[0].shape"
   ]
  },
  {
   "cell_type": "code",
   "execution_count": 466,
   "metadata": {},
   "outputs": [],
   "source": [
    "def outputSize(in_size, kernel_size, stride, padding):\n",
    "\n",
    "    output = int((in_size - kernel_size + 2*(padding)) / stride) + 1\n",
    "\n",
    "    return(output)"
   ]
  },
  {
   "cell_type": "code",
   "execution_count": 518,
   "metadata": {},
   "outputs": [],
   "source": [
    "import torch\n",
    "import torch.nn.functional as F\n",
    "\n",
    "class SimpleCNN(torch.nn.Module):\n",
    "    \n",
    "    def __init__(self):\n",
    "        super(SimpleCNN, self).__init__()\n",
    "        \n",
    "        self.pool = nn.MaxPool2d(2, stride=2, padding=0)\n",
    "        \n",
    "        self.conv1 = nn.Conv2d(1, 32, 3, padding=0)\n",
    "        self.conv2 = nn.Conv2d(32, 64, 3, stride=1, padding=1)\n",
    "        self.conv3 = nn.Conv2d(64, 64, 3, stride=1, padding=1)\n",
    "        self.conv4 = nn.Conv2d(64, 64, 3, stride=1, padding=1)\n",
    "        self.conv5 = nn.Conv2d(64, 64, 3, stride=1, padding=1)\n",
    "        self.conv6 = nn.Conv2d(64, 128, 3, stride=1, padding=1)\n",
    "        self.conv7 = nn.Conv2d(128, 128, 3, stride=1, padding=1)\n",
    "        self.conv8 = nn.Conv2d(128, 256, 3, stride=1, padding=1)\n",
    "        \n",
    "        self.fc1 = nn.Linear(256*6*7, 1024)\n",
    "        self.fc2 = nn.Linear(1024, 68 * 2)\n",
    "\n",
    "    def forward(self, x):\n",
    "        x = self.pool(F.relu(self.conv1(x)))\n",
    "        x = F.relu(self.conv2(x))\n",
    "\n",
    "        x = self.pool(F.relu(self.conv3(x)))\n",
    "        x = F.relu(self.conv4(x))\n",
    "\n",
    "        x = self.pool(F.relu(self.conv5(x)))\n",
    "        x = F.relu(self.conv6(x))\n",
    "        x = self.pool(F.relu(self.conv7(x)))\n",
    "        x = F.relu(self.conv8(x))\n",
    "\n",
    "        x = x.view(-1, 256*6*7)\n",
    "        x = F.relu(self.fc1(x))\n",
    "        x = F.relu(self.fc2(x))\n",
    "        x = x.view(-1, 68, 2)\n",
    "        \n",
    "        return x"
   ]
  },
  {
   "cell_type": "code",
   "execution_count": 519,
   "metadata": {},
   "outputs": [],
   "source": [
    "net = SimpleCNN()"
   ]
  },
  {
   "cell_type": "code",
   "execution_count": 520,
   "metadata": {},
   "outputs": [],
   "source": [
    "import torch.optim as optim\n",
    "from torch import nn\n",
    "\n",
    "criterion = nn.MSELoss()\n",
    "optimizer = optim.Adam(net.parameters(), lr=0.001)"
   ]
  },
  {
   "cell_type": "code",
   "execution_count": 523,
   "metadata": {},
   "outputs": [
    {
     "name": "stdout",
     "output_type": "stream",
     "text": [
      "[1,    11] loss: 0.103\n",
      "[2,    11] loss: 0.104\n",
      "[3,    11] loss: 0.103\n",
      "[4,    11] loss: 0.102\n",
      "[5,    11] loss: 0.102\n",
      "[6,    11] loss: 0.102\n",
      "[7,    11] loss: 0.103\n",
      "[8,    11] loss: 0.102\n",
      "[9,    11] loss: 0.101\n",
      "[10,    11] loss: 0.101\n",
      "[11,    11] loss: 0.101\n",
      "[12,    11] loss: 0.101\n",
      "[13,    11] loss: 0.101\n",
      "[14,    11] loss: 0.101\n",
      "[15,    11] loss: 0.102\n",
      "[16,    11] loss: 0.101\n",
      "[17,    11] loss: 0.100\n",
      "[18,    11] loss: 0.101\n",
      "[19,    11] loss: 0.101\n",
      "[20,    11] loss: 0.101\n",
      "[21,    11] loss: 0.101\n",
      "[22,    11] loss: 0.101\n",
      "[23,    11] loss: 0.100\n",
      "[24,    11] loss: 0.100\n",
      "[25,    11] loss: 0.100\n",
      "[26,    11] loss: 0.100\n",
      "[27,    11] loss: 0.100\n",
      "[28,    11] loss: 0.101\n",
      "[29,    11] loss: 0.101\n",
      "[30,    11] loss: 0.100\n",
      "[31,    11] loss: 0.100\n",
      "[32,    11] loss: 0.101\n",
      "[33,    11] loss: 0.100\n",
      "[34,    11] loss: 0.100\n",
      "[35,    11] loss: 0.100\n",
      "[36,    11] loss: 0.100\n",
      "[37,    11] loss: 0.100\n",
      "[38,    11] loss: 0.100\n",
      "[39,    11] loss: 0.100\n",
      "[40,    11] loss: 0.100\n",
      "[41,    11] loss: 0.100\n",
      "[42,    11] loss: 0.100\n",
      "[43,    11] loss: 0.100\n",
      "[44,    11] loss: 0.100\n",
      "[45,    11] loss: 0.100\n",
      "[46,    11] loss: 0.100\n",
      "[47,    11] loss: 0.100\n",
      "[48,    11] loss: 0.100\n",
      "[49,    11] loss: 0.100\n",
      "[50,    11] loss: 0.100\n",
      "Finished Training\n"
     ]
    }
   ],
   "source": [
    "num_iter = 50\n",
    "\n",
    "for epoch in range(num_iter):  # loop over the dataset multiple times\n",
    "\n",
    "    running_loss = 0.0\n",
    "    for i, data in enumerate(train_loader, 0):\n",
    "#     for i, data in enumerate(trainloader, 0):\n",
    "        # get the inputs; data is a list of [inputs, labels]\n",
    "        inputs, labels = data\n",
    "    \n",
    "#       zero the parameter gradients\n",
    "        optimizer.zero_grad()\n",
    "\n",
    "        # forward + backward + optimize\n",
    "        outputs = net(inputs)\n",
    "#         print(outputs)\n",
    "        loss = torch.sqrt(criterion(outputs, labels))\n",
    "        loss.backward()\n",
    "        optimizer.step()\n",
    "\n",
    "        # print statistics\n",
    "        running_loss += loss.item()\n",
    "        if i % 11 == 10:    # print every 2000 mini-batches\n",
    "            print('[%d, %5d] loss: %.3f' %\n",
    "                  (epoch + 1, i + 1, running_loss / 2000))\n",
    "            running_loss = 0.0\n",
    "\n",
    "print('Finished Training')"
   ]
  },
  {
   "cell_type": "code",
   "execution_count": null,
   "metadata": {},
   "outputs": [],
   "source": []
  },
  {
   "cell_type": "code",
   "execution_count": 122,
   "metadata": {},
   "outputs": [],
   "source": [
    "# import tensorflow as tf\n",
    "# import sys\n",
    "\n",
    "# IMG_WIDTH = 128\n",
    "# IMG_HEIGHT = 128\n",
    "# IMG_CHANNEL = 1\n",
    "\n",
    "# # The input functions for train, validation and serving share a same feature\n",
    "# # name with our model function. Name it here.\n",
    "# INPUT_FEATURE = 'image'\n",
    "\n",
    "# def cnn_model_fn(features, labels, mode):\n",
    "#     \"\"\"\n",
    "#     The model function for the network.\n",
    "#     \"\"\"\n",
    "#     # |== Layer 0: input layer ==|\n",
    "#     # Input feature x should be of shape (batch_size, image_width, image_height,\n",
    "#     # color_channels). As we will directly using the decoded image tensor of\n",
    "#     # data type int8, a convertion should be performed.\n",
    "#     inputs = tf.cast(features[INPUT_FEATURE], tf.float32)\n",
    "\n",
    "#     # |== Layer 1 ==|\n",
    "\n",
    "#     # Convolutional layer.\n",
    "#     # Computes 32 features using a 3x3 filter with ReLU activation.\n",
    "# #     conv1 = tf.layers.conv2d(\n",
    "# #         inputs=inputs,\n",
    "# #         filters=32,\n",
    "# #         kernel_size=[3, 3],\n",
    "# #         strides=(1, 1),\n",
    "# #         padding='valid',\n",
    "# #         activation=tf.nn.relu)\n",
    "\n",
    "# #     # Pooling layer.\n",
    "# #     # First max pooling layer with a 2x2 filter and stride of 2.\n",
    "# #     pool1 = tf.layers.max_pooling2d(\n",
    "# #         inputs=conv1,\n",
    "# #         pool_size=[2, 2],\n",
    "# #         strides=(2, 2),\n",
    "# #         padding='valid')\n",
    "\n",
    "#     # |== Layer 2 ==|\n",
    "\n",
    "#     # Convolutional layer\n",
    "#     # Computes 64 features using a 3x3 filter with ReLU activation.\n",
    "# #     conv2 = tf.layers.conv2d(\n",
    "# #         inputs=pool1,\n",
    "# #         filters=64,\n",
    "# #         kernel_size=[3, 3],\n",
    "# #         strides=(1, 1),\n",
    "# #         padding='valid',\n",
    "# #         activation=tf.nn.relu)\n",
    "\n",
    "#     # Convolutional layer\n",
    "#     # Computes 64 features using a 3x3 filter with ReLU activation.\n",
    "# #     conv3 = tf.layers.conv2d(\n",
    "# #         inputs=conv2,\n",
    "# #         filters=64,\n",
    "# #         kernel_size=[3, 3],\n",
    "# #         strides=(1, 1),\n",
    "# #         padding='valid',\n",
    "# #         activation=tf.nn.relu)\n",
    "\n",
    "# #     # Pooling layer\n",
    "# #     # Second max pooling layer with a 2x2 filter and stride of 2.\n",
    "# #     pool2 = tf.layers.max_pooling2d(\n",
    "# #         inputs=conv3,\n",
    "# #         pool_size=[2, 2],\n",
    "# #         strides=(2, 2),\n",
    "# #         padding='valid')\n",
    "\n",
    "#     # |== Layer 3 ==|\n",
    "\n",
    "#     # Convolutional layer\n",
    "#     # Computes 64 features using a 3x3 filter with ReLU activation.\n",
    "# #     conv4 = tf.layers.conv2d(\n",
    "# #         inputs=pool2,\n",
    "# #         filters=64,\n",
    "# #         kernel_size=[3, 3],\n",
    "# #         strides=(1, 1),\n",
    "# #         padding='valid',\n",
    "# #         activation=tf.nn.relu)\n",
    "\n",
    "# #     # Convolutional layer\n",
    "# #     # Computes 64 features using a 3x3 filter with ReLU activation.\n",
    "# #     conv5 = tf.layers.conv2d(\n",
    "# #         inputs=conv4,\n",
    "# #         filters=64,\n",
    "# #         kernel_size=[3, 3],\n",
    "# #         strides=(1, 1),\n",
    "# #         padding='valid',\n",
    "# #         activation=tf.nn.relu)\n",
    "\n",
    "# #     # Pooling layer\n",
    "# #     # Third max pooling layer with a 2x2 filter and stride of 2.\n",
    "# #     pool3 = tf.layers.max_pooling2d(\n",
    "# #         inputs=conv5,\n",
    "# #         pool_size=[2, 2],\n",
    "# #         strides=(2, 2),\n",
    "# #         padding='valid')\n",
    "\n",
    "#     # |== Layer 4 ==|\n",
    "\n",
    "#     # Convolutional layer\n",
    "#     # Computes 128 features using a 3x3 filter with ReLU activation.\n",
    "# #     conv6 = tf.layers.conv2d(\n",
    "# #         inputs=pool3,\n",
    "# #         filters=128,\n",
    "# #         kernel_size=[3, 3],\n",
    "# #         strides=(1, 1),\n",
    "# #         padding='valid',\n",
    "# #         activation=tf.nn.relu)\n",
    "\n",
    "# #     # Convolutional layer\n",
    "# #     # Computes 128 features using a 3x3 filter with ReLU activation.\n",
    "# #     conv7 = tf.layers.conv2d(\n",
    "# #         inputs=conv6,\n",
    "# #         filters=128,\n",
    "# #         kernel_size=[3, 3],\n",
    "# #         strides=(1, 1),\n",
    "# #         padding='valid',\n",
    "# #         activation=tf.nn.relu)\n",
    "\n",
    "# #     # Pooling layer\n",
    "# #     # Fourth max pooling layer with a 2x2 filter and stride of 2.\n",
    "# #     pool4 = tf.layers.max_pooling2d(\n",
    "# #         inputs=conv7,\n",
    "# #         pool_size=[2, 2],\n",
    "# #         strides=(1, 1),\n",
    "# #         padding='valid')\n",
    "\n",
    "#     # |== Layer 5 ==|\n",
    "\n",
    "#     # Convolutional layer\n",
    "# #     conv8 = tf.layers.conv2d(\n",
    "# #         inputs=pool4,\n",
    "# #         filters=256,\n",
    "# #         kernel_size=[3, 3],\n",
    "# #         strides=(1, 1),\n",
    "# #         padding='valid',\n",
    "# #         activation=tf.nn.relu)\n",
    "\n",
    "#     # |== Layer 6 ==|\n",
    "\n",
    "#     # Flatten tensor into a batch of vectors\n",
    "# #     flatten = tf.layers.flatten(inputs=conv8)\n",
    "\n",
    "# #     # Dense layer 1, a fully connected layer.\n",
    "# #     dense1 = tf.layers.dense(\n",
    "# #         inputs=flatten,\n",
    "# #         units=1024,\n",
    "# #         activation=tf.nn.relu,\n",
    "# #         use_bias=True)\n",
    "\n",
    "#     # Dense layer 2, also known as the output layer.\n",
    "#     logits = tf.layers.dense(\n",
    "#         inputs=dense1,\n",
    "#         units=136,\n",
    "#         activation=None,\n",
    "#         use_bias=True,\n",
    "#         name=\"logits\")\n",
    "\n",
    "#     # Make prediction for PREDICATION mode.\n",
    "#     predictions = logits\n",
    "#     if mode == tf.estimator.ModeKeys.PREDICT:\n",
    "#         return tf.estimator.EstimatorSpec(\n",
    "#             mode=mode,\n",
    "#             predictions=predictions,\n",
    "#             export_outputs={\n",
    "#                 'predict': tf.estimator.export.PredictOutput(predictions)\n",
    "#             })\n",
    "\n",
    "#     # Calculate loss using mean squared error.\n",
    "#     loss = tf.losses.mean_squared_error(labels=labels, predictions=predictions)\n",
    "\n",
    "#     # Create a tensor logging purposes.\n",
    "#     tf.identity(loss, name='loss')\n",
    "#     tf.summary.scalar('loss', loss)\n",
    "\n",
    "#     # Configure the train OP for TRAIN mode.\n",
    "#     if mode == tf.estimator.ModeKeys.TRAIN:\n",
    "#         optimizer = tf.train.AdamOptimizer(learning_rate=0.001)\n",
    "\n",
    "#         train_op = optimizer.minimize(\n",
    "#             loss=loss,\n",
    "#             global_step=tf.train.get_global_step())\n",
    "#     else:\n",
    "#         train_op = None\n",
    "\n",
    "#     # Create a metric.\n",
    "#     rmse_metrics = tf.metrics.root_mean_squared_error(\n",
    "#         labels=labels,\n",
    "#         predictions=predictions)\n",
    "#     metrics = {'eval_mse': rmse_metrics}\n",
    "\n",
    "#     # A tensor for metric logging\n",
    "#     tf.identity(rmse_metrics[1], name='root_mean_squared_error')\n",
    "#     tf.summary.scalar('root_mean_squared_error', rmse_metrics[1])\n",
    "\n",
    "#     # Generate a summary node for the images\n",
    "#     tf.summary.image('images', features[INPUT_FEATURE], max_outputs=6)\n",
    "\n",
    "#     return tf.estimator.EstimatorSpec(\n",
    "#         mode=mode,\n",
    "#         predictions=predictions,\n",
    "#         loss=loss,\n",
    "#         train_op=train_op,\n",
    "#         eval_metric_ops=metrics\n",
    "#     )\n",
    "\n",
    "# def input_fn(record_file, batch_size, num_epochs=None, shuffle=True):\n",
    "#     \"\"\"\n",
    "#     Input function required for TensorFlow Estimator.\n",
    "#     \"\"\"\n",
    "#     dataset = tf.data.TFRecordDataset(record_file)\n",
    "\n",
    "#     # Use `Dataset.map()` to build a pair of a feature dictionary and a label\n",
    "#     # tensor for each example.\n",
    "#     dataset = dataset.map(_parse_function)\n",
    "#     if shuffle is True:\n",
    "#         dataset = dataset.shuffle(buffer_size=10000)\n",
    "#     dataset = dataset.batch(batch_size)\n",
    "#     dataset = dataset.repeat(num_epochs)\n",
    "\n",
    "#     # Make dataset iterator.\n",
    "#     iterator = dataset.make_one_shot_iterator()\n",
    "\n",
    "#     # `features` is a dictionary in which each value is a batch of values for\n",
    "#     # that feature; `labels` is a batch of labels.\n",
    "#     image, label = iterator.get_next()\n",
    "#     return {INPUT_FEATURE: image}, label"
   ]
  },
  {
   "cell_type": "markdown",
   "metadata": {},
   "source": [
    "source: https://github.com/yinguobing/cnn-facial-landmark/blob/master/landmark.py"
   ]
  },
  {
   "cell_type": "code",
   "execution_count": 527,
   "metadata": {},
   "outputs": [],
   "source": [
    "for image in jaffe_images:\n",
    "    im = Image.open(image)\n",
    "    im.show()\n",
    "    break"
   ]
  },
  {
   "cell_type": "code",
   "execution_count": null,
   "metadata": {},
   "outputs": [],
   "source": []
  },
  {
   "cell_type": "code",
   "execution_count": 128,
   "metadata": {},
   "outputs": [
    {
     "data": {
      "text/plain": [
       "(593,)"
      ]
     },
     "execution_count": 128,
     "metadata": {},
     "output_type": "execute_result"
    }
   ],
   "source": [
    "ck_dataframe['Image'].values.shape"
   ]
  },
  {
   "cell_type": "code",
   "execution_count": null,
   "metadata": {},
   "outputs": [],
   "source": []
  }
 ],
 "metadata": {
  "kernelspec": {
   "display_name": "Python 3",
   "language": "python",
   "name": "python3"
  },
  "language_info": {
   "codemirror_mode": {
    "name": "ipython",
    "version": 3
   },
   "file_extension": ".py",
   "mimetype": "text/x-python",
   "name": "python",
   "nbconvert_exporter": "python",
   "pygments_lexer": "ipython3",
   "version": "3.7.3"
  }
 },
 "nbformat": 4,
 "nbformat_minor": 2
}
